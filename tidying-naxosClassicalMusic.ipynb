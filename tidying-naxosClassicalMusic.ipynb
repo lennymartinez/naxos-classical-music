{
 "cells": [
  {
   "cell_type": "code",
   "execution_count": 1,
   "metadata": {},
   "outputs": [],
   "source": [
    "import csv"
   ]
  },
  {
   "cell_type": "markdown",
   "metadata": {},
   "source": [
    "Now we're going to try and reformat the spreadsheet so we have movies in 1 columns and not 47 columns."
   ]
  },
  {
   "cell_type": "code",
   "execution_count": 3,
   "metadata": {},
   "outputs": [],
   "source": [
    "partial = []\n",
    "\n",
    "with open('naxosClassicalMusicPartialTidy.csv', 'r') as csvfile:\n",
    "    reader = csv.reader(csvfile, delimiter=',', quotechar='\"')\n",
    "    for row in reader: partial.append(row)\n",
    "        "
   ]
  },
  {
   "cell_type": "code",
   "execution_count": 6,
   "metadata": {},
   "outputs": [
    {
     "data": {
      "text/plain": [
       "['ADAM, ADOLPHE',\n",
       " \"Giselle: Entree d'Hilarion, scene et fugue des Wilis\",\n",
       " '8.550755-56',\n",
       " 'https://www.naxos.com/catalogue/item.asp?item_code=8.550755-56',\n",
       " 'Red Shoes (The) (1948)',\n",
       " '',\n",
       " '',\n",
       " '',\n",
       " '',\n",
       " '',\n",
       " '',\n",
       " '',\n",
       " '',\n",
       " '',\n",
       " '',\n",
       " '',\n",
       " '',\n",
       " '',\n",
       " '',\n",
       " '',\n",
       " '',\n",
       " '',\n",
       " '',\n",
       " '',\n",
       " '',\n",
       " '',\n",
       " '',\n",
       " '',\n",
       " '',\n",
       " '',\n",
       " '',\n",
       " '',\n",
       " '',\n",
       " '',\n",
       " '',\n",
       " '',\n",
       " '',\n",
       " '',\n",
       " '',\n",
       " '',\n",
       " '',\n",
       " '',\n",
       " '',\n",
       " '',\n",
       " '',\n",
       " '',\n",
       " '',\n",
       " '',\n",
       " '',\n",
       " '',\n",
       " '']"
      ]
     },
     "execution_count": 6,
     "metadata": {},
     "output_type": "execute_result"
    }
   ],
   "source": [
    "partial[2]"
   ]
  },
  {
   "cell_type": "markdown",
   "metadata": {},
   "source": [
    "Let's make the list we'll populate"
   ]
  },
  {
   "cell_type": "code",
   "execution_count": 27,
   "metadata": {},
   "outputs": [],
   "source": [
    "tidy = []        "
   ]
  },
  {
   "attachments": {},
   "cell_type": "markdown",
   "metadata": {},
   "source": [
    "Now we'll try to check the columns to see if they're empty. We only care about the columns where there are movie names. Columns 4:end. I'll look at the composer who is used in 47 movies: STRAUSS, JOHANN, II!"
   ]
  },
  {
   "cell_type": "code",
   "execution_count": 28,
   "metadata": {},
   "outputs": [],
   "source": [
    "row = partial[1177]\n",
    "\n",
    "# for col in row[4:]:\n",
    "#     if not col:\n",
    "#         #column is empty, do nothing\n",
    "#         pass\n",
    "#     else:\n",
    "#         #column has movie.\n",
    "#         tidy.append([row[0],row[1],row[2],row[3],col])"
   ]
  },
  {
   "cell_type": "code",
   "execution_count": 31,
   "metadata": {},
   "outputs": [],
   "source": [
    "composer = row[0]\n",
    "piece = row[1]\n",
    "itemCode = row[2]\n",
    "url = row[3]\n",
    "for col in row[4:]:\n",
    "    if not col:\n",
    "        pass\n",
    "    else:\n",
    "        tidy.append([composer,piece,itemCode,url,col])\n",
    "        "
   ]
  },
  {
   "cell_type": "code",
   "execution_count": 32,
   "metadata": {},
   "outputs": [
    {
     "data": {
      "text/plain": [
       "47"
      ]
     },
     "execution_count": 32,
     "metadata": {},
     "output_type": "execute_result"
    }
   ],
   "source": [
    "len(tidy)"
   ]
  },
  {
   "cell_type": "code",
   "execution_count": 33,
   "metadata": {},
   "outputs": [
    {
     "data": {
      "text/plain": [
       "[['STRAUSS, JOHANN, II',\n",
       "  'An der schonen, blauen Donau (The Beautiful Blue Danube), Op. 314',\n",
       "  '8.550152',\n",
       "  'https://www.naxos.com/catalogue/item.asp?item_code=8.550152',\n",
       "  '2001: A Space Odyssey (1968) '],\n",
       " ['STRAUSS, JOHANN, II',\n",
       "  'An der schonen, blauen Donau (The Beautiful Blue Danube), Op. 314',\n",
       "  '8.550152',\n",
       "  'https://www.naxos.com/catalogue/item.asp?item_code=8.550152',\n",
       "  ' 24 7: Twenty Four Seven (1997) '],\n",
       " ['STRAUSS, JOHANN, II',\n",
       "  'An der schonen, blauen Donau (The Beautiful Blue Danube), Op. 314',\n",
       "  '8.550152',\n",
       "  'https://www.naxos.com/catalogue/item.asp?item_code=8.550152',\n",
       "  ' Adventures of Rocky and Bullwinkle (2000) '],\n",
       " ['STRAUSS, JOHANN, II',\n",
       "  'An der schonen, blauen Donau (The Beautiful Blue Danube), Op. 314',\n",
       "  '8.550152',\n",
       "  'https://www.naxos.com/catalogue/item.asp?item_code=8.550152',\n",
       "  ' Age of Innocence (The) (1993) '],\n",
       " ['STRAUSS, JOHANN, II',\n",
       "  'An der schonen, blauen Donau (The Beautiful Blue Danube), Op. 314',\n",
       "  '8.550152',\n",
       "  'https://www.naxos.com/catalogue/item.asp?item_code=8.550152',\n",
       "  ' Airplane II (1982) '],\n",
       " ['STRAUSS, JOHANN, II',\n",
       "  'An der schonen, blauen Donau (The Beautiful Blue Danube), Op. 314',\n",
       "  '8.550152',\n",
       "  'https://www.naxos.com/catalogue/item.asp?item_code=8.550152',\n",
       "  ' Amants de Pont-Neuf (Les) (The Lovers on the Bridge) (1991) '],\n",
       " ['STRAUSS, JOHANN, II',\n",
       "  'An der schonen, blauen Donau (The Beautiful Blue Danube), Op. 314',\n",
       "  '8.550152',\n",
       "  'https://www.naxos.com/catalogue/item.asp?item_code=8.550152',\n",
       "  ' Amazing Spider-Man 2 (The) (2014) '],\n",
       " ['STRAUSS, JOHANN, II',\n",
       "  'An der schonen, blauen Donau (The Beautiful Blue Danube), Op. 314',\n",
       "  '8.550152',\n",
       "  'https://www.naxos.com/catalogue/item.asp?item_code=8.550152',\n",
       "  ' Anywhere But Here (1999) '],\n",
       " ['STRAUSS, JOHANN, II',\n",
       "  'An der schonen, blauen Donau (The Beautiful Blue Danube), Op. 314',\n",
       "  '8.550152',\n",
       "  'https://www.naxos.com/catalogue/item.asp?item_code=8.550152',\n",
       "  ' Austin Powers (1997) '],\n",
       " ['STRAUSS, JOHANN, II',\n",
       "  'An der schonen, blauen Donau (The Beautiful Blue Danube), Op. 314',\n",
       "  '8.550152',\n",
       "  'https://www.naxos.com/catalogue/item.asp?item_code=8.550152',\n",
       "  ' Book Thief (The) (2013) '],\n",
       " ['STRAUSS, JOHANN, II',\n",
       "  'An der schonen, blauen Donau (The Beautiful Blue Danube), Op. 314',\n",
       "  '8.550152',\n",
       "  'https://www.naxos.com/catalogue/item.asp?item_code=8.550152',\n",
       "  ' Champagne Waltz (1937) '],\n",
       " ['STRAUSS, JOHANN, II',\n",
       "  'An der schonen, blauen Donau (The Beautiful Blue Danube), Op. 314',\n",
       "  '8.550152',\n",
       "  'https://www.naxos.com/catalogue/item.asp?item_code=8.550152',\n",
       "  ' Chop Suey (2001) '],\n",
       " ['STRAUSS, JOHANN, II',\n",
       "  'An der schonen, blauen Donau (The Beautiful Blue Danube), Op. 314',\n",
       "  '8.550152',\n",
       "  'https://www.naxos.com/catalogue/item.asp?item_code=8.550152',\n",
       "  ' Colonel Redl (1985) '],\n",
       " ['STRAUSS, JOHANN, II',\n",
       "  'An der schonen, blauen Donau (The Beautiful Blue Danube), Op. 314',\n",
       "  '8.550152',\n",
       "  'https://www.naxos.com/catalogue/item.asp?item_code=8.550152',\n",
       "  ' Conway Curve (The) (2015) '],\n",
       " ['STRAUSS, JOHANN, II',\n",
       "  'An der schonen, blauen Donau (The Beautiful Blue Danube), Op. 314',\n",
       "  '8.550152',\n",
       "  'https://www.naxos.com/catalogue/item.asp?item_code=8.550152',\n",
       "  ' Cool Runnings (1993) '],\n",
       " ['STRAUSS, JOHANN, II',\n",
       "  'An der schonen, blauen Donau (The Beautiful Blue Danube), Op. 314',\n",
       "  '8.550152',\n",
       "  'https://www.naxos.com/catalogue/item.asp?item_code=8.550152',\n",
       "  ' End of the Affair (The) (1999) '],\n",
       " ['STRAUSS, JOHANN, II',\n",
       "  'An der schonen, blauen Donau (The Beautiful Blue Danube), Op. 314',\n",
       "  '8.550152',\n",
       "  'https://www.naxos.com/catalogue/item.asp?item_code=8.550152',\n",
       "  ' Goodbye Lenin (2003) '],\n",
       " ['STRAUSS, JOHANN, II',\n",
       "  'An der schonen, blauen Donau (The Beautiful Blue Danube), Op. 314',\n",
       "  '8.550152',\n",
       "  'https://www.naxos.com/catalogue/item.asp?item_code=8.550152',\n",
       "  ' Goodbye, Mr. Chips (1939) '],\n",
       " ['STRAUSS, JOHANN, II',\n",
       "  'An der schonen, blauen Donau (The Beautiful Blue Danube), Op. 314',\n",
       "  '8.550152',\n",
       "  'https://www.naxos.com/catalogue/item.asp?item_code=8.550152',\n",
       "  ' Great Santini (The) '],\n",
       " ['STRAUSS, JOHANN, II',\n",
       "  'An der schonen, blauen Donau (The Beautiful Blue Danube), Op. 314',\n",
       "  '8.550152',\n",
       "  'https://www.naxos.com/catalogue/item.asp?item_code=8.550152',\n",
       "  ' Hannibal (2001) '],\n",
       " ['STRAUSS, JOHANN, II',\n",
       "  'An der schonen, blauen Donau (The Beautiful Blue Danube), Op. 314',\n",
       "  '8.550152',\n",
       "  'https://www.naxos.com/catalogue/item.asp?item_code=8.550152',\n",
       "  ' Harlem Nights (1989) '],\n",
       " ['STRAUSS, JOHANN, II',\n",
       "  'An der schonen, blauen Donau (The Beautiful Blue Danube), Op. 314',\n",
       "  '8.550152',\n",
       "  'https://www.naxos.com/catalogue/item.asp?item_code=8.550152',\n",
       "  \" Heaven's Gate (1980) \"],\n",
       " ['STRAUSS, JOHANN, II',\n",
       "  'An der schonen, blauen Donau (The Beautiful Blue Danube), Op. 314',\n",
       "  '8.550152',\n",
       "  'https://www.naxos.com/catalogue/item.asp?item_code=8.550152',\n",
       "  \" Jason's Lyric (1994) \"],\n",
       " ['STRAUSS, JOHANN, II',\n",
       "  'An der schonen, blauen Donau (The Beautiful Blue Danube), Op. 314',\n",
       "  '8.550152',\n",
       "  'https://www.naxos.com/catalogue/item.asp?item_code=8.550152',\n",
       "  ' Jean de Florette (1986) '],\n",
       " ['STRAUSS, JOHANN, II',\n",
       "  'An der schonen, blauen Donau (The Beautiful Blue Danube), Op. 314',\n",
       "  '8.550152',\n",
       "  'https://www.naxos.com/catalogue/item.asp?item_code=8.550152',\n",
       "  ' Jungle Book (The) (1994) '],\n",
       " ['STRAUSS, JOHANN, II',\n",
       "  'An der schonen, blauen Donau (The Beautiful Blue Danube), Op. 314',\n",
       "  '8.550152',\n",
       "  'https://www.naxos.com/catalogue/item.asp?item_code=8.550152',\n",
       "  ' Larger Than Life (1996) '],\n",
       " ['STRAUSS, JOHANN, II',\n",
       "  'An der schonen, blauen Donau (The Beautiful Blue Danube), Op. 314',\n",
       "  '8.550152',\n",
       "  'https://www.naxos.com/catalogue/item.asp?item_code=8.550152',\n",
       "  ' Last Emperor (The) (1987) '],\n",
       " ['STRAUSS, JOHANN, II',\n",
       "  'An der schonen, blauen Donau (The Beautiful Blue Danube), Op. 314',\n",
       "  '8.550152',\n",
       "  'https://www.naxos.com/catalogue/item.asp?item_code=8.550152',\n",
       "  ' Late Quartet (A) (2012) '],\n",
       " ['STRAUSS, JOHANN, II',\n",
       "  'An der schonen, blauen Donau (The Beautiful Blue Danube), Op. 314',\n",
       "  '8.550152',\n",
       "  'https://www.naxos.com/catalogue/item.asp?item_code=8.550152',\n",
       "  ' Marius et Jeannette (1997) '],\n",
       " ['STRAUSS, JOHANN, II',\n",
       "  'An der schonen, blauen Donau (The Beautiful Blue Danube), Op. 314',\n",
       "  '8.550152',\n",
       "  'https://www.naxos.com/catalogue/item.asp?item_code=8.550152',\n",
       "  \" Men in White (National Lampoon's Men in  White) (1998) \"],\n",
       " ['STRAUSS, JOHANN, II',\n",
       "  'An der schonen, blauen Donau (The Beautiful Blue Danube), Op. 314',\n",
       "  '8.550152',\n",
       "  'https://www.naxos.com/catalogue/item.asp?item_code=8.550152',\n",
       "  ' Midnight in the Garden of Good and Evil '],\n",
       " ['STRAUSS, JOHANN, II',\n",
       "  'An der schonen, blauen Donau (The Beautiful Blue Danube), Op. 314',\n",
       "  '8.550152',\n",
       "  'https://www.naxos.com/catalogue/item.asp?item_code=8.550152',\n",
       "  ' Nina Takes a Lover (1994) '],\n",
       " ['STRAUSS, JOHANN, II',\n",
       "  'An der schonen, blauen Donau (The Beautiful Blue Danube), Op. 314',\n",
       "  '8.550152',\n",
       "  'https://www.naxos.com/catalogue/item.asp?item_code=8.550152',\n",
       "  ' Novocaine (2001) '],\n",
       " ['STRAUSS, JOHANN, II',\n",
       "  'An der schonen, blauen Donau (The Beautiful Blue Danube), Op. 314',\n",
       "  '8.550152',\n",
       "  'https://www.naxos.com/catalogue/item.asp?item_code=8.550152',\n",
       "  ' Nutty Professor II: The Klumps (2000) '],\n",
       " ['STRAUSS, JOHANN, II',\n",
       "  'An der schonen, blauen Donau (The Beautiful Blue Danube), Op. 314',\n",
       "  '8.550152',\n",
       "  'https://www.naxos.com/catalogue/item.asp?item_code=8.550152',\n",
       "  ' Only You (1994) '],\n",
       " ['STRAUSS, JOHANN, II',\n",
       "  'An der schonen, blauen Donau (The Beautiful Blue Danube), Op. 314',\n",
       "  '8.550152',\n",
       "  'https://www.naxos.com/catalogue/item.asp?item_code=8.550152',\n",
       "  ' Out Of The Present (1999) '],\n",
       " ['STRAUSS, JOHANN, II',\n",
       "  'An der schonen, blauen Donau (The Beautiful Blue Danube), Op. 314',\n",
       "  '8.550152',\n",
       "  'https://www.naxos.com/catalogue/item.asp?item_code=8.550152',\n",
       "  ' Rango (2011) '],\n",
       " ['STRAUSS, JOHANN, II',\n",
       "  'An der schonen, blauen Donau (The Beautiful Blue Danube), Op. 314',\n",
       "  '8.550152',\n",
       "  'https://www.naxos.com/catalogue/item.asp?item_code=8.550152',\n",
       "  \" Romy and Michele's High School Reunion (1997) \"],\n",
       " ['STRAUSS, JOHANN, II',\n",
       "  'An der schonen, blauen Donau (The Beautiful Blue Danube), Op. 314',\n",
       "  '8.550152',\n",
       "  'https://www.naxos.com/catalogue/item.asp?item_code=8.550152',\n",
       "  ' Roxanne (1987) '],\n",
       " ['STRAUSS, JOHANN, II',\n",
       "  'An der schonen, blauen Donau (The Beautiful Blue Danube), Op. 314',\n",
       "  '8.550152',\n",
       "  'https://www.naxos.com/catalogue/item.asp?item_code=8.550152',\n",
       "  ' Soapdish (1991) '],\n",
       " ['STRAUSS, JOHANN, II',\n",
       "  'An der schonen, blauen Donau (The Beautiful Blue Danube), Op. 314',\n",
       "  '8.550152',\n",
       "  'https://www.naxos.com/catalogue/item.asp?item_code=8.550152',\n",
       "  ' Strictly Ballroom (1992) '],\n",
       " ['STRAUSS, JOHANN, II',\n",
       "  'An der schonen, blauen Donau (The Beautiful Blue Danube), Op. 314',\n",
       "  '8.550152',\n",
       "  'https://www.naxos.com/catalogue/item.asp?item_code=8.550152',\n",
       "  ' Sunshine (1999) '],\n",
       " ['STRAUSS, JOHANN, II',\n",
       "  'An der schonen, blauen Donau (The Beautiful Blue Danube), Op. 314',\n",
       "  '8.550152',\n",
       "  'https://www.naxos.com/catalogue/item.asp?item_code=8.550152',\n",
       "  ' Talk of Angels (1998) '],\n",
       " ['STRAUSS, JOHANN, II',\n",
       "  'An der schonen, blauen Donau (The Beautiful Blue Danube), Op. 314',\n",
       "  '8.550152',\n",
       "  'https://www.naxos.com/catalogue/item.asp?item_code=8.550152',\n",
       "  ' Tin Drum (The) (1979) '],\n",
       " ['STRAUSS, JOHANN, II',\n",
       "  'An der schonen, blauen Donau (The Beautiful Blue Danube), Op. 314',\n",
       "  '8.550152',\n",
       "  'https://www.naxos.com/catalogue/item.asp?item_code=8.550152',\n",
       "  ' Titanic (1997) '],\n",
       " ['STRAUSS, JOHANN, II',\n",
       "  'An der schonen, blauen Donau (The Beautiful Blue Danube), Op. 314',\n",
       "  '8.550152',\n",
       "  'https://www.naxos.com/catalogue/item.asp?item_code=8.550152',\n",
       "  ' True Lies (1994) '],\n",
       " ['STRAUSS, JOHANN, II',\n",
       "  'An der schonen, blauen Donau (The Beautiful Blue Danube), Op. 314',\n",
       "  '8.550152',\n",
       "  'https://www.naxos.com/catalogue/item.asp?item_code=8.550152',\n",
       "  ' Vol-au-vent (1996)']]"
      ]
     },
     "execution_count": 33,
     "metadata": {},
     "output_type": "execute_result"
    }
   ],
   "source": [
    "tidy"
   ]
  },
  {
   "cell_type": "markdown",
   "metadata": {},
   "source": [
    "This seems to have worked. Let's clean tidy and try to iterate through all rows."
   ]
  },
  {
   "cell_type": "code",
   "execution_count": 36,
   "metadata": {},
   "outputs": [],
   "source": [
    "tidy = []"
   ]
  },
  {
   "cell_type": "code",
   "execution_count": 37,
   "metadata": {},
   "outputs": [
    {
     "data": {
      "text/plain": [
       "1421"
      ]
     },
     "execution_count": 37,
     "metadata": {},
     "output_type": "execute_result"
    }
   ],
   "source": [
    "len(partial)"
   ]
  },
  {
   "cell_type": "code",
   "execution_count": 38,
   "metadata": {},
   "outputs": [],
   "source": [
    "partialHeadless = partial[1:]"
   ]
  },
  {
   "cell_type": "code",
   "execution_count": 39,
   "metadata": {},
   "outputs": [
    {
     "data": {
      "text/plain": [
       "1420"
      ]
     },
     "execution_count": 39,
     "metadata": {},
     "output_type": "execute_result"
    }
   ],
   "source": [
    "len(partialHeadless)"
   ]
  },
  {
   "cell_type": "code",
   "execution_count": 45,
   "metadata": {},
   "outputs": [],
   "source": [
    "for row in partialHeadless:\n",
    "    composer = row[0]\n",
    "    piece = row[1]\n",
    "    itemCode = row[2]\n",
    "    url = row[3]\n",
    "    for col in row[4:]:\n",
    "        if not col:\n",
    "            pass\n",
    "        else:\n",
    "            tidy.append([composer,piece,itemCode,url,col.strip()])"
   ]
  },
  {
   "cell_type": "code",
   "execution_count": 42,
   "metadata": {},
   "outputs": [
    {
     "data": {
      "text/plain": [
       "2839"
      ]
     },
     "execution_count": 42,
     "metadata": {},
     "output_type": "execute_result"
    }
   ],
   "source": [
    "len(tidy)"
   ]
  },
  {
   "cell_type": "code",
   "execution_count": 47,
   "metadata": {},
   "outputs": [
    {
     "data": {
      "text/plain": [
       "['BEETHOVEN, LUDWIG VAN',\n",
       " 'Symphony No. 5 in C minor, Op. 67: I. Allegro con brio',\n",
       " '8.553476',\n",
       " 'https://www.naxos.com/catalogue/item.asp?item_code=8.553476',\n",
       " ' Bowfinger (1999) ']"
      ]
     },
     "execution_count": 47,
     "metadata": {},
     "output_type": "execute_result"
    }
   ],
   "source": [
    "tidy[400]"
   ]
  },
  {
   "cell_type": "markdown",
   "metadata": {},
   "source": [
    "This seems to have worked. Let's export this as a csv and take it back to excel to separate the year the movie came out."
   ]
  },
  {
   "cell_type": "code",
   "execution_count": 48,
   "metadata": {},
   "outputs": [],
   "source": [
    "with open(\"naxosClassicalMusicPartialTidyV2.csv\",\"w+\") as my_csv:\n",
    "    csvWriter = csv.writer(my_csv,delimiter=',')\n",
    "    csvWriter.writerows(tidy)"
   ]
  },
  {
   "cell_type": "code",
   "execution_count": null,
   "metadata": {},
   "outputs": [],
   "source": []
  }
 ],
 "metadata": {
  "kernelspec": {
   "display_name": "Python 3",
   "language": "python",
   "name": "python3"
  },
  "language_info": {
   "codemirror_mode": {
    "name": "ipython",
    "version": 3
   },
   "file_extension": ".py",
   "mimetype": "text/x-python",
   "name": "python",
   "nbconvert_exporter": "python",
   "pygments_lexer": "ipython3",
   "version": "3.7.2"
  }
 },
 "nbformat": 4,
 "nbformat_minor": 2
}
