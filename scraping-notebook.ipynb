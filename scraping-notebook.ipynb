{
 "cells": [
  {
   "cell_type": "markdown",
   "metadata": {},
   "source": [
    "# What's the point of this?\n",
    "\n",
    "Based on brief conversation with Mackenzie Miller from UM's interactive media program, I want to scrape the Naxos Records pages that have classical music in movies by composers: https://www.naxos.com/musicinmoviescomplist.asp?letter=A\n",
    "\n",
    "# What's the plan?\n",
    "There is one page per letter of the alphabet A-Z. The first thing I'll do is scrape each page and get those urls and then gather the entries for each leetter of the alphabet.\n",
    "\n",
    "Each entry is a composer's name organized by *last name*, *first name* *middle name*\n",
    "Under the composer we also have the subentries. Each subentry is the useful thing we want. It includes the name of the music piece, the item code that links to it (not fully clear what that means), and the name of the movie it appears in, along with the year the movie came out."
   ]
  },
  {
   "cell_type": "markdown",
   "metadata": {},
   "source": [
    "## so let's start\n",
    "\n",
    "I'll scrape the pages like I did with my News21work"
   ]
  }
 ],
 "metadata": {
  "kernelspec": {
   "display_name": "Python 3",
   "language": "python",
   "name": "python3"
  },
  "language_info": {
   "codemirror_mode": {
    "name": "ipython",
    "version": 3
   },
   "file_extension": ".py",
   "mimetype": "text/x-python",
   "name": "python",
   "nbconvert_exporter": "python",
   "pygments_lexer": "ipython3",
   "version": "3.7.2"
  }
 },
 "nbformat": 4,
 "nbformat_minor": 2
}
