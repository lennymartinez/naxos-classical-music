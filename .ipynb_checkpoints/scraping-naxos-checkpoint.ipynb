{
 "cells": [
  {
   "cell_type": "markdown",
   "metadata": {},
   "source": [
    "# What's the point of this?\n",
    "\n",
    "Based on brief conversation with Mackenzie Miller from UM's interactive media program, I want to scrape the Naxos Records pages that have classical music in movies by composers: https://www.naxos.com/musicinmoviescomplist.asp?letter=A\n",
    "\n",
    "# What's the plan?\n",
    "There is one page per letter of the alphabet A-Z. The first thing I'll do is scrape each page and get those urls and then gather the entries for each leetter of the alphabet.\n",
    "\n",
    "Each entry is a composer's name organized by *last name*, *first name* *middle name*\n",
    "Under the composer we also have the subentries. Each subentry is the useful thing we want. It includes the name of the music piece, the item code that links to it (not fully clear what that means), and the name of the movie it appears in, along with the year the movie came out."
   ]
  },
  {
   "cell_type": "markdown",
   "metadata": {},
   "source": [
    "## so let's start\n",
    "\n",
    "I'll scrape the pages like I did with my News21work"
   ]
  },
  {
   "cell_type": "code",
   "execution_count": 1,
   "metadata": {},
   "outputs": [],
   "source": [
    "import requests\n",
    "import urllib.parse as parse\n",
    "from bs4 import BeautifulSoup\n",
    "import lxml\n",
    "from time import sleep\n",
    "import csv\n",
    "from pathlib import Path"
   ]
  },
  {
   "cell_type": "code",
   "execution_count": 2,
   "metadata": {},
   "outputs": [],
   "source": [
    "baseurl = \"https://www.naxos.com/musicinmoviescomplist.asp?letter=\""
   ]
  },
  {
   "cell_type": "markdown",
   "metadata": {},
   "source": [
    "Now I need to iterate through the alphabet uppercase..."
   ]
  },
  {
   "cell_type": "code",
   "execution_count": 3,
   "metadata": {},
   "outputs": [],
   "source": [
    "from string import ascii_lowercase\n",
    "\n",
    "alphabet = ascii_lowercase.upper()"
   ]
  },
  {
   "cell_type": "code",
   "execution_count": 4,
   "metadata": {},
   "outputs": [
    {
     "data": {
      "text/plain": [
       "'ABCDEFGHIJKLMNOPQRSTUVWXYZ'"
      ]
     },
     "execution_count": 4,
     "metadata": {},
     "output_type": "execute_result"
    }
   ],
   "source": [
    "alphabet"
   ]
  },
  {
   "cell_type": "code",
   "execution_count": 5,
   "metadata": {},
   "outputs": [
    {
     "name": "stdout",
     "output_type": "stream",
     "text": [
      "https://www.naxos.com/musicinmoviescomplist.asp?letter=A\n",
      "https://www.naxos.com/musicinmoviescomplist.asp?letter=B\n",
      "https://www.naxos.com/musicinmoviescomplist.asp?letter=C\n",
      "https://www.naxos.com/musicinmoviescomplist.asp?letter=D\n",
      "https://www.naxos.com/musicinmoviescomplist.asp?letter=E\n",
      "https://www.naxos.com/musicinmoviescomplist.asp?letter=F\n",
      "https://www.naxos.com/musicinmoviescomplist.asp?letter=G\n",
      "https://www.naxos.com/musicinmoviescomplist.asp?letter=H\n",
      "https://www.naxos.com/musicinmoviescomplist.asp?letter=I\n",
      "https://www.naxos.com/musicinmoviescomplist.asp?letter=J\n",
      "https://www.naxos.com/musicinmoviescomplist.asp?letter=K\n",
      "https://www.naxos.com/musicinmoviescomplist.asp?letter=L\n",
      "https://www.naxos.com/musicinmoviescomplist.asp?letter=M\n",
      "https://www.naxos.com/musicinmoviescomplist.asp?letter=N\n",
      "https://www.naxos.com/musicinmoviescomplist.asp?letter=O\n",
      "https://www.naxos.com/musicinmoviescomplist.asp?letter=P\n",
      "https://www.naxos.com/musicinmoviescomplist.asp?letter=Q\n",
      "https://www.naxos.com/musicinmoviescomplist.asp?letter=R\n",
      "https://www.naxos.com/musicinmoviescomplist.asp?letter=S\n",
      "https://www.naxos.com/musicinmoviescomplist.asp?letter=T\n",
      "https://www.naxos.com/musicinmoviescomplist.asp?letter=U\n",
      "https://www.naxos.com/musicinmoviescomplist.asp?letter=V\n",
      "https://www.naxos.com/musicinmoviescomplist.asp?letter=W\n",
      "https://www.naxos.com/musicinmoviescomplist.asp?letter=X\n",
      "https://www.naxos.com/musicinmoviescomplist.asp?letter=Y\n",
      "https://www.naxos.com/musicinmoviescomplist.asp?letter=Z\n"
     ]
    }
   ],
   "source": [
    "out_url_list = []\n",
    "for letter in alphabet:\n",
    "    testurl = baseurl + letter\n",
    "    print(testurl)"
   ]
  },
  {
   "cell_type": "markdown",
   "metadata": {},
   "source": [
    "That worked, so let's keep going and extract the html for each of those pages:"
   ]
  },
  {
   "cell_type": "code",
   "execution_count": 6,
   "metadata": {},
   "outputs": [
    {
     "name": "stdout",
     "output_type": "stream",
     "text": [
      "page 'savedPages/naxos-records-A.html' has been saved for later\n",
      "page 'savedPages/naxos-records-B.html' has been saved for later\n",
      "page 'savedPages/naxos-records-C.html' has been saved for later\n",
      "page 'savedPages/naxos-records-D.html' has been saved for later\n",
      "page 'savedPages/naxos-records-E.html' has been saved for later\n",
      "page 'savedPages/naxos-records-F.html' has been saved for later\n",
      "page 'savedPages/naxos-records-G.html' has been saved for later\n",
      "page 'savedPages/naxos-records-H.html' has been saved for later\n",
      "page 'savedPages/naxos-records-I.html' has been saved for later\n",
      "page 'savedPages/naxos-records-J.html' has been saved for later\n",
      "page 'savedPages/naxos-records-K.html' has been saved for later\n",
      "page 'savedPages/naxos-records-L.html' has been saved for later\n",
      "page 'savedPages/naxos-records-M.html' has been saved for later\n",
      "page 'savedPages/naxos-records-N.html' has been saved for later\n",
      "page 'savedPages/naxos-records-O.html' has been saved for later\n",
      "page 'savedPages/naxos-records-P.html' has been saved for later\n",
      "page 'savedPages/naxos-records-Q.html' has been saved for later\n",
      "page 'savedPages/naxos-records-R.html' has been saved for later\n",
      "page 'savedPages/naxos-records-S.html' has been saved for later\n",
      "page 'savedPages/naxos-records-T.html' has been saved for later\n",
      "page 'savedPages/naxos-records-U.html' has been saved for later\n",
      "page 'savedPages/naxos-records-V.html' has been saved for later\n",
      "page 'savedPages/naxos-records-W.html' has been saved for later\n",
      "page 'savedPages/naxos-records-X.html' has been saved for later\n",
      "page 'savedPages/naxos-records-Y.html' has been saved for later\n",
      "page 'savedPages/naxos-records-Z.html' has been saved for later\n"
     ]
    }
   ],
   "source": [
    "in_url_list = []\n",
    "for letter in alphabet:\n",
    "    outfile = \"savedPages/naxos-records-\" + letter + \".html\"\n",
    "    path_to_outfile = Path(outfile)\n",
    "    \n",
    "    if path_to_outfile.is_file():\n",
    "        print(\"We have processed <<\"+outfile+\">> already.\")\n",
    "        pass\n",
    "    else:\n",
    "        in_url_list.append(outfile)\n",
    "        #cycle through the diff pages\n",
    "        testurl = baseurl + letter\n",
    "        response = requests.get(testurl)\n",
    "        a = response.text\n",
    "        a = a.encode('ascii','ignore').decode('utf-8')\n",
    "        a = parse.unquote(a)\n",
    "        out = open(outfile, 'w')\n",
    "        out.write(a)\n",
    "        out.close()\n",
    "        print(\"page \\'\" + outfile +\"\\' has been saved for later\")"
   ]
  },
  {
   "cell_type": "markdown",
   "metadata": {},
   "source": [
    "Now that we have the html for each one, let's look at one of those pages, like the letter A...\n",
    "\n",
    "We want to identify the pieces we'll extract.\n",
    "So it's all a table. \n",
    "\n",
    "The composer is the `<b>` text that's a child of a `td` with `bgcolor=\"#EEEEEE\"`\n",
    "\n",
    "All the music that is in the composer's movies is in a `td` with `class=\"style5\"`. This is pretty messy because multiple pieces of a composer may be used in a movie and the same piece could be used in diff movies.\n",
    "\n",
    "We can try to scrape these two divs first and see how to clean it later?\n",
    "\n",
    "To get the process right, I'll look at the letter I which only has 4 composers."
   ]
  },
  {
   "cell_type": "code",
   "execution_count": 7,
   "metadata": {},
   "outputs": [
    {
     "data": {
      "text/plain": [
       "'savedPages/naxos-records-I.html'"
      ]
     },
     "execution_count": 7,
     "metadata": {},
     "output_type": "execute_result"
    }
   ],
   "source": [
    "in_url_list[8]\n"
   ]
  },
  {
   "cell_type": "markdown",
   "metadata": {},
   "source": [
    "Now that I verified which item in `in_url_list` corresponds to letter *I*, let's load the html for it."
   ]
  },
  {
   "cell_type": "code",
   "execution_count": 8,
   "metadata": {},
   "outputs": [],
   "source": [
    "soup = BeautifulSoup(open(in_url_list[8]).read(),\"lxml\")"
   ]
  },
  {
   "cell_type": "code",
   "execution_count": 9,
   "metadata": {},
   "outputs": [
    {
     "data": {
      "text/plain": [
       "<bound method Tag.prettify of <!DOCTYPE html PUBLIC \"-//W3C//DTD XHTML 1.0 Transitional//EN\" \"https://www.w3.org/TR/xhtml1/DTD/xhtml1-transitional.dtd\">\n",
       "<html xmlns=\"https://www.w3.org/1999/xhtml\">\n",
       "<head>\n",
       "<script type=\"text/javascript\">var _sf_startpt=(new Date()).getTime()</script>\n",
       "<title>Classical Music in Movies :  I - Classical Soundtrack and Classical Background Music.</title>\n",
       "<meta content=\"Classical Music in Movies and Classical Soundtrack: I. Choose from a wide variety of Classical Background Music, Classical movie songs and traditional musical background in mp3, dvd and cds for your own personal Classical Soundtrack collection from Naxos.com\" name=\"Description\"/>\n",
       "<meta content=\"I - Classical Music in Movies Classical Soundtrack Classical Background Music classical music movies classic soundtracks and classical background music movie songs classic traditional background Classical movie songs\" name=\"keywords\"/>\n",
       "<meta content=\"I - Classical Music in Movies Classical Soundtrack Classical Background Music classical music movies classic soundtracks and classical background music movie songs classic traditional background Classical movie songs\" name=\"keyphrases\"/>\n",
       "<meta content=\"I - Classical Music in Movies Classical Soundtrack Classical Background Music classical music movies classic soundtracks and classical background music movie songs classic traditional background Classical movie songs\" http-equiv=\"description\"/>\n",
       "<meta content=\"I - Classical Music in Movies Classical Soundtrack Classical Background Music classical music movies classic soundtracks and classical background music movie songs classic traditional background Classical movie songs\" name=\"htdig-keywords\"/>\n",
       "<meta content=\"\" name=\"classification\"/>\n",
       "<meta content=\"5UfW8_oLwVwjXN1jeDyeyZ3pnpS2KjyBBqMM0JFbqYA\" name=\"google-site-verification\"/>\n",
       "<meta content=\"text/html;charset=utf-8\" http-equiv=\"Content-Type\"/>\n",
       "<link href=\"/css/main.css\" media=\"screen\" rel=\"stylesheet\" type=\"text/css\"/>\n",
       "<link href=\"/css/cookie.css\" media=\"screen\" rel=\"stylesheet\" type=\"text/css\"/>\n",
       "<link href=\"https://cdn.naxos.com/favicon.ico\" rel=\"shortcut icon\"/>\n",
       "<link href=\"/rss/CArssgenerator.asp?type=newreleases&amp;filter=All Labels\" rel=\"alternate\" title=\"All New Releases\" type=\"application/rss+xml\"/>\n",
       "<script src=\"/javascript/helperfunctions.js\" type=\"text/javascript\"></script>\n",
       "<script src=\"/javascript/predefined.js\" type=\"text/javascript\"></script>\n",
       "<script src=\"/javascript/nxsajax.js\" type=\"text/javascript\"></script>\n",
       "<script src=\"/javascript/jquery_aky.js\" type=\"text/javascript\"></script>\n",
       "<script>\n",
       "\t\t\t$(function () {  \n",
       "\t\t\t    $(window).scroll(function () {  \n",
       "\t\t\t        if ($(this).scrollTop() != 0) {  \n",
       "\t\t\t            $('#toTop_hdr').fadeIn();  \n",
       "\t\t\t            $('#disco_hdr').fadeIn();  \n",
       "\t\t\t        } else {  \n",
       "\t\t\t            $('#toTop_hdr').fadeOut();  \n",
       "\t\t\t            $('#disco_hdr').fadeOut();  \n",
       "\t\t\t        }  \n",
       "\t\t\t    });  \n",
       "\t\t\t    $('#toTop_hdr').click(function () {  \n",
       "\t\t\t        $('body,html').animate({  \n",
       "\t\t\t            scrollTop: 0  \n",
       "\t\t\t        },  \n",
       "\t\t\t        800);  \n",
       "\t\t\t    });  \n",
       "\n",
       "\n",
       "\t\t\t    $('#disco_hdr').click(function () {  \n",
       "\t\t\t        $('body,html').animate({  \n",
       "\t\t\t            scrollTop: 0  \n",
       "\t\t\t        },  \n",
       "\t\t\t        800);  \n",
       "\t\t\t    });  \n",
       "\n",
       "\t\t\t});\n",
       "\t\t</script>\n",
       "<style type=\"text/css\">\n",
       "\t\t\t\t#toTop_hdr {  \n",
       "\t\t\t\t    width:100px;  \n",
       "\t\t\t\t        border:1px solid #ccc;  \n",
       "\t\t\t\t        background:#f7f7f7;  \n",
       "\t\t\t\t        text-align:center;  \n",
       "\t\t\t\t        padding:5px;  \n",
       "\t\t\t\t        position:fixed; /* mgic */  \n",
       "\t\t\t\t        bottom:10px; /* div bottom*/  \n",
       "\t\t\t\t        right:10px;  \n",
       "\t\t\t\t        cursor:pointer;  \n",
       "\t\t\t\t        display:none;  \n",
       "\t\t\t\t        color:#333;  \n",
       "\t\t\t\t        font-family:verdana;  \n",
       "\t\t\t\t        font-size:11px;  \n",
       "\t\t\t\t}\n",
       "\n",
       "\t\t\t\t#disco_hdr {  \n",
       "\t\t\t\t    width:100px;  \n",
       "\t\t\t\t        border:1px solid #ccc;  \n",
       "\t\t\t\t        background:#f7f7f7;  \n",
       "\t\t\t\t        text-align:center;  \n",
       "\t\t\t\t        padding:5px;  \n",
       "\t\t\t\t        position:fixed; /* mgic */  \n",
       "\t\t\t\t        bottom:10px; /* div bottom*/  \n",
       "\t\t\t\t        right:10px;  \n",
       "\t\t\t\t        cursor:pointer;  \n",
       "\t\t\t\t        display:none;  \n",
       "\t\t\t\t        color:#333;  \n",
       "\t\t\t\t        font-family:verdana;  \n",
       "\t\t\t\t        font-size:11px;  \n",
       "\t\t\t\t}\n",
       "\n",
       "                .homepagetitle {\n",
       "                    padding-top: 40px;\n",
       "                    padding-left: 10px;\n",
       "                    font-family: 'Roboto', sans-serif, Verdana;\n",
       "                    font-size: 15px;\n",
       "                    color: lightgrey;\n",
       "                }\n",
       "\n",
       "                .HHeader {\n",
       "                    top: 2px;\n",
       "                    Position: absolute;\n",
       "                }\n",
       "\n",
       "                .HHeader .socialmedia {\n",
       "                    float: left;\n",
       "                    width: 30px;\n",
       "                }\n",
       "\n",
       "                .HHeader .socialmedia:hover {\n",
       "                    background-color: lightgrey;\n",
       "                }\n",
       "\n",
       "                .HHeader .socialmedia-new {\n",
       "                    float: left;\n",
       "                    width: 20px;\n",
       "                }\n",
       "\n",
       "                .subscribenow {\n",
       "                    font-family: sans-serif, Verdana;\n",
       "                    font-size: 9px;\n",
       "                    text-decoration: none;\n",
       "                    background-color: lightgrey;\n",
       "                    border-radius: 2px;\n",
       "                    padding-left: 5px;\n",
       "                    padding-right: 5px;\n",
       "                    height: 18px;\n",
       "                }\n",
       "\n",
       "                .subscribenow:hover {\n",
       "                    background-color: gray;\n",
       "                }\n",
       "\n",
       "                .subscribenow a {\n",
       "                    text-align: center;\n",
       "                    line-height: 18px;\n",
       "                    text-decoration: none;\n",
       "                }\n",
       "\n",
       "                .subscribenow a:link {\n",
       "                    text-decoration: none;\n",
       "                    color: black;\n",
       "                }\n",
       "\n",
       "                .subscribenow a:visited {\n",
       "                    text-decoration: none;\n",
       "                    color: black;\n",
       "                }\n",
       "\n",
       "                .search_kw_input {\n",
       "                    font-family: 'Roboto', sans-serif, Verdana;\n",
       "                    font-size: 14px;\n",
       "                }\n",
       "\n",
       "                .search_kw {\n",
       "                    background-color: lightgray; \n",
       "                    width: 20px; \n",
       "                    height: 20px; \n",
       "                    border-radius: 2px;\n",
       "                }\n",
       "\n",
       "                .search_kw:hover {\n",
       "                    background-color: gray;\n",
       "                }\n",
       "\n",
       "                .search_kw input {\n",
       "                    padding-top: 2px; \n",
       "                    padding-left: 2px; \n",
       "                    width: 16px; \n",
       "                    height: 16px;\n",
       "                    text-decoration: none;\n",
       "                }\n",
       "\n",
       "            </style>\n",
       "<script src=\"/javascript/menucode.js\" type=\"text/javascript\"></script>\n",
       "<script src=\"https://ajax.googleapis.com/ajax/libs/jquery/1.4.4/jquery.min.js\" type=\"text/javascript\"></script>\n",
       "<script src=\"/javascript/cookie.js\" type=\"text/javascript\"></script>\n",
       "<!-- Google Tag Manager -->\n",
       "<script>(function(w,d,s,l,i){w[l]=w[l]||[];w[l].push({'gtm.start':\n",
       "                new Date().getTime(),event:'gtm.js'});var f=d.getElementsByTagName(s)[0],\n",
       "                j=d.createElement(s),dl=l!='dataLayer'?'&l='+l:'';j.async=true;j.src=\n",
       "                'https://www.googletagmanager.com/gtm.js?id='+i+dl;f.parentNode.insertBefore(j,f);\n",
       "                })(window,document,'script','dataLayer','GTM-PHMNH8');\n",
       "                </script>\n",
       "<!-- End Google Tag Manager -->\n",
       "<script>\n",
       "                    (function(i,s,o,g,r,a,m){i['GoogleAnalyticsObject']=r;i[r]=i[r]||function(){\n",
       "                    (i[r].q=i[r].q||[]).push(arguments)},i[r].l=1*new Date();a=s.createElement(o),\n",
       "                    m=s.getElementsByTagName(o)[0];a.async=1;a.src=g;m.parentNode.insertBefore(a,m)\n",
       "                    })(window,document,'script','//www.google-analytics.com/analytics.js','ga');\n",
       "\n",
       "                    ga('create', 'UA-1066651-1', 'auto');\n",
       "                    ga('require', 'GTM-NRJGGC3');\n",
       "                    ga('send', 'pageview');\n",
       "                </script>\n",
       "</head>\n",
       "<body>\n",
       "<!-- Google Tag Manager (noscript) -->\n",
       "<noscript><iframe height=\"0\" src=\"https://www.googletagmanager.com/ns.html?id=GTM-PHMNH8\" style=\"display:none;visibility:hidden\" width=\"0\"></iframe></noscript>\n",
       "<!-- End Google Tag Manager (noscript) -->\n",
       "<table align=\"center\" border=\"0\" cellpadding=\"0\" cellspacing=\"0\" width=\"809\">\n",
       "<tr><td bgcolor=\"#000000\" width=\"1\"><img height=\"1\" src=\"https://cdn.naxos.com/images/blank.gif\" width=\"1\"/></td>\n",
       "<td width=\"117\"><a href=\"/\"><img alt=\"Classical Music Home\" border=\"0\" height=\"110\" src=\"https://cdn.naxos.com/images/logo.gif\" title=\"Classical Music Home\" width=\"117\"/></a></td>\n",
       "<td class=\"header\" style=\"background-image:url(https://cdn.naxos.com/images/top_mid.gif); font-family: Times New Roman, Times, serif;\" width=\"280\">\n",
       "<div class=\"HHeader\">\n",
       "<div class=\"socialmedia\"><a href=\"https://www.facebook.com/naxos\" target=\"_blank\" title=\"Facebook\"><img height=\"30\" src=\"/images/socialmedia/facebook.png\" width=\"30\"/></a></div>\n",
       "<div class=\"socialmedia\"><a href=\"https://twitter.com/Naxosrecords\" target=\"_blank\" title=\"Twitter\"><img height=\"30\" src=\"/images/socialmedia/twitter.png\" width=\"30\"/></a></div>\n",
       "<div class=\"socialmedia\"><a href=\"https://www.youtube.com/naxosvideos\" target=\"_blank\" title=\"YouTube\"><img height=\"30\" src=\"/images/socialmedia/youtube.png\" width=\"30\"/></a></div>\n",
       "<div class=\"socialmedia\"><a href=\"https://vimeo.com/user8854130\" target=\"_blank\" title=\"Vimeo\"><img height=\"30\" src=\"/images/socialmedia/vimeo.png\" width=\"30\"/></a></div>\n",
       "<div class=\"socialmedia\"><a href=\"https://blog.naxos.com/\" target=\"_blank\" title=\"Blogger\"><img height=\"30\" src=\"/images/socialmedia/blogger.png\" width=\"30\"/></a></div>\n",
       "</div>\n",
       "<h1 class=\"homepagetitle\">Welcome to Naxos Records</h1>\n",
       "</td>\n",
       "<td align=\"center\" valign=\"top\">\n",
       "<script language=\"JavaScript\">\n",
       "\t\t\t\t\t<!--\n",
       "\t\t\t\t\tfunction goto_Selected_Country(loc,varItem)\n",
       "\t\t\t\t\t{\n",
       "                      //alert(loc+' '+varItem);\n",
       "\n",
       "\t\t\t\t\t  switch(varItem)\n",
       "\t\t\t\t\t  {\n",
       "\t\t\t\t\t    case 0:\n",
       "\t\t\t\t\t      window.parent.self.status=\"\";\n",
       "\t\t\t\t\t      break;\n",
       "\t\t\t\t\t    default:\n",
       "                          window.open(loc, target=\"_blank\");\n",
       "                       /*\n",
       "\t\t\t\t\t    case 2:\n",
       "\t\t\t\t\t      //window.location=\"https://www.microsoft.com\";\n",
       "\t\t\t\t\t      break;\n",
       "\t\t\t\t\t    case 3:\n",
       "\t\t\t\t\t      window.location=\"https://www.msn.com\";\n",
       "\t\t\t\t\t      break;\n",
       "                       */\n",
       "\n",
       "\t\t\t\t\t  }\n",
       "\n",
       "\t\t\t\t\t}\n",
       "\t\t\t\t\t// -->\n",
       "\t\t\t\t\t</script>\n",
       "<table border=\"0\" cellpadding=\"0\" cellspacing=\"0\" width=\"100%\">\n",
       "<tr><td height=\"31\" style=\"background-image:url(https://cdn.naxos.com/images/top_bg.gif)\">\n",
       "<!--table width=\"395\" border=\"0\" cellspacing=\"0\" cellpadding=\"0\">\n",
       "\t\t\t\t\t\t<tr><td align=\"right\">\n",
       "\t\t\t\t\t\t\t<span class=\"style19\">\n",
       "\t\t\t\t\t\t\tNaxos Worldwide Sites: \n",
       "\t\t\t\t\t\t\t<select name=\"naxossites\" onChange=\"javascript:goto_Selected_Country(options[selectedIndex].value,this.selectedIndex);\">\n",
       "\t\t\t\t\t\t\t\t<option value=\"https://www.naxos.com/\">Choose Country</option>\n",
       "\t\t\t\t\t\t\t\t<option value=\"https://www.naxos.com/\">Global Site</option>\n",
       "\t\t\t\t\t\t\t\t<option value=\"https://www.savd.com.au/\">Australia</option>\n",
       "\t\t\t\t\t\t\t\t<option value=\"https://www.naxos.com/naxos/countries/canada/\">Canada</option>\n",
       "\t\t\t\t\t\t\t\t<option value=\"https://www.naxos.com.cn/\">China</option>\n",
       "\t\t\t\t\t\t\t\t<option value=\"https://www.naxosdirect.dk/\">Denmark</option>\n",
       "\t\t\t\t\t\t\t\t<option value=\"https://www.fg-naxos.fi/\">Finland</option>\n",
       "\t\t\t\t\t\t\t\t<option value=\"https://www.naxos.com/naxos/countries/France/\">France</option>\n",
       "\t\t\t\t\t\t\t\t<option value=\"https://www.naxos.de\">Germany</option>\n",
       "\t\t\t\t\t\t\t\t<option value=\"https://www.naxos.com.hk\">Hong Kong</option>\n",
       "\t\t\t\t\t\t\t\t<option value=\"https://www.naxos.co.jp\">Japan</option>\n",
       "\t\t\t\t\t\t\t\t<option value=\"https://www.naxos.co.kr\">Korea</option>\n",
       "\t\t\t\t\t\t\t\t<option value=\"https://www.naxos.com/naxos/countries/newzealand/\">New Zealand</option>\n",
       "\t\t\t\t\t\t\t\t<option value=\"https://www.naxos.no\">Norway</option>\n",
       "\t\t\t\t\t\t\t\t<option value=\"https://www.naxos.se\">Sweden</option>\n",
       "\t\t\t\t\t\t\t\t<option value=\"https://www.naxos.com/naxos/countries/uk/\">UK</option>\n",
       "\t\t\t\t\t\t\t\t<option value=\"https://www.naxos.com/naxos/countries/usa/\">USA</option>\n",
       "\t\t\t\t\t\t\t</select>\n",
       "\t\t\t\t\t\t\t</span>\n",
       "\t\t\t\t\t\t\t</td>\n",
       "\t\t\t\t\t\t</tr>\n",
       "\t\t\t\t\t\t</table-->\n",
       "<table border=\"0\" cellpadding=\"0\" cellspacing=\"0\" width=\"100%\">\n",
       "<tr>\n",
       "<td align=\"right\">\n",
       "<form action=\"/membership/action.Login.asp\" method=\"post\" name=\"qform\" style=\"margin:0;padding:0\">\n",
       "<input name=\"NewQuery\" type=\"hidden\" value=\"new\"/>\n",
       "<input name=\"item_code\" type=\"hidden\" value=\"\"/>\n",
       "<input name=\"intArtist\" type=\"hidden\" value=\"\"/>\n",
       "<input name=\"strType\" type=\"hidden\" value=\"\"/>\n",
       "<input name=\"intComposer\" type=\"hidden\" value=\"\"/>\n",
       "<!--input type=\"hidden\" name=\"strPathInfo\" value=\"\"-->\n",
       "<input name=\"strPathInfo\" type=\"hidden\" value=\"/musicinmoviescomplist.asp?letter=I\"/>\n",
       "<table align=\"right\" border=\"0\" cellpadding=\"0\" cellspacing=\"2\" width=\"100%\">\n",
       "<tr>\n",
       "<td align=\"right\">\n",
       "<!--img src=\"https://cdn.naxos.com/images/subs_new.gif\">\n",
       "                                                 <a href=\"/membership/subscribe.asp\">\n",
       "                                                 <img src=\"https://cdn.naxos.com/images/login/subs_now.gif\" border=\"0\"></a>&nbsp;&nbsp;\n",
       "                                                 <br-->\n",
       "<span style=\"font-size:11px\"><b>Email</b></span>\n",
       "<input name=\"email\" size=\"15\" style=\"font-size:11px;font-family:verdana;margin:1;padding:1;\" type=\"text\"/>\n",
       "<span style=\"font-size:11px\"><b>Password</b></span>\n",
       "<input name=\"password\" size=\"15\" style=\"font-size:11px;font-family:verdana;margin:1;padding:1;\" type=\"password\"/> \n",
       "\t\t\t\t\t\t\t\t\t\t\t\t\t\n",
       "\t\t\t\t\t\t\t\t\t\t\t\t  <!--tr>\n",
       "\t\t\t\t\t\t\t\t\t\t\t\t\t<td width=\"10\"><input type=\"checkbox\" name=\"chkRemember\" align=\"middle\"/></td>\n",
       "\t\t\t\t\t\t\t\t\t\t\t\t\t<td width=\"90\" class=\"style16\" style=\"font-size:10px\">Remember Me</td>\n",
       "\t\t\t\t\t\t\t\t\t\t\t\t  </tr-->\n",
       "</td>\n",
       "<td align=\"left\"><input name=\"imageField\" src=\"/images/login/login_2.gif\" type=\"image\"/></td>\n",
       "</tr>\n",
       "</table>\n",
       "</form>\n",
       "</td>\n",
       "</tr>\n",
       "</table>\n",
       "</td></tr>\n",
       "<tr><td align=\"right\" height=\"79\" style=\"background-image:url(https://cdn.naxos.com/images/top_right.gif)\" valign=\"top\">\n",
       "<table border=\"0\" cellpadding=\"0\" cellspacing=\"0\" width=\"100%\">\n",
       "<tr>\n",
       "<td align=\"right\" style=\"padding-top: 10px; padding-right: 15px;\">\n",
       "<div style=\"color:#fff;\">\n",
       "<table border=\"0\" cellpadding=\"0\" cellspacing=\"0\">\n",
       "<tr>\n",
       "<td><span class=\"style16\" style=\"font-size:11px;\">Not a subscriber yet?  </span></td>\n",
       "<td><div class=\"subscribenow\"><a href=\"/membership/subscribe.asp\">Subscribe Now</a></div></td>\n",
       "</tr>\n",
       "</table>\n",
       "</div>\n",
       "</td>\n",
       "</tr>\n",
       "<tr>\n",
       "<td align=\"right\" style=\"padding-top:5px; padding-left:15px\" valign=\"top\">\n",
       "<div style=\"padding-right:15px; padding-bottom:8px;\">\n",
       "<form action=\"/search/kwsresults.asp\" id=\"nxsgoogleminisearch\" name=\"frmKWsearch\" onsubmit=\"return Parametrize_KWSearch();\" style=\"margin:0px;\">\n",
       "<a name=\"keywordsearchonfooter\"></a>\n",
       "<table border=\"0\" cellpadding=\"0\" cellspacing=\"0\">\n",
       "<tr>\n",
       "<td colspan=\"5\"><span class=\"style16\" style=\"font-size:11px;\">Keyword Search</span></td>\n",
       "</tr>\n",
       "<tr>\n",
       "<td><input class=\"search_kw_input\" name=\"q\" size=\"36\" type=\"text\" value=\"\"/></td>\n",
       "<td><span class=\"style16\" style=\"font-size:11px;\"> in </span></td>\n",
       "<td>\n",
       "<select class=\"search_kw_input\" name=\"site\">\n",
       "<!--\n",
       "                                                                                  \n",
       "\t\t\t\t\t\t\t\t\t\t        <OPTION VALUE=\"naxos\">All\n",
       "                                                                                  \n",
       "        -->\n",
       "<option selected=\"\" value=\"naxosalbums\">Albums\n",
       "                                                                                  \n",
       "\t\t\t\t\t\t\t\t\t\t        </option><option value=\"naxosbios\">Biographies\n",
       "                                                                                  \n",
       "\t\t\t\t\t\t\t\t\t\t        </option><option value=\"naxosreviews\">Reviews\n",
       "                                                                                  \n",
       "\n",
       "\t\t\t\t\t\t\t\t\t\t        </option></select>\n",
       "</td>\n",
       "<td><span class=\"style16\" style=\"font-size:11px;\"> </span></td>\n",
       "<td><div class=\"search_kw\"><input class=\"search_kw_input\" src=\"/images/view_icon.png\" type=\"image\" value=\"submit\"/></div></td>\n",
       "</tr>\n",
       "</table>\n",
       "<input name=\"ie\" type=\"hidden\" value=\"ISO-8859-15\"/>\n",
       "<input name=\"output\" type=\"hidden\" value=\"xml_no_dtd\"/>\n",
       "<input name=\"proxystylesheet\" type=\"hidden\" value=\"naxos_frontend_next\"/>\n",
       "<input name=\"client\" type=\"hidden\" value=\"naxos_frontend\"/>\n",
       "<input name=\"filter\" type=\"hidden\" value=\"0\"/>\n",
       "</form>\n",
       "</div>\n",
       "</td>\n",
       "</tr>\n",
       "</table>\n",
       "</td></tr>\n",
       "</table>\n",
       "</td>\n",
       "<td bgcolor=\"#000000\" width=\"1\"><img height=\"1\" src=\"https://cdn.naxos.com/images/blank.gif\" width=\"1\"/></td>\n",
       "</tr>\n",
       "</table>\n",
       "<script type=\"text/javascript\">\n",
       "\t\t\t          navHover = function() {\n",
       "\t\t\t\tvar lis = document.getElementById(\"navmenu\").getElementsByTagName(\"LI\");\n",
       "\t\t\t\tfor (var i=0; i<lis.length; i++) {\n",
       "\t\t\t\t\tlis[i].onmouseover=function() {\n",
       "\t\t\t\t\t\tthis.className+=\" iehover\";\n",
       "\t\t\t\t\t}\n",
       "\t\t\t\t\tlis[i].onmouseout=function() {\n",
       "\t\t\t\t\t\tthis.className=this.className.replace(new RegExp(\" iehover\\\\b\"), \"\");\n",
       "\t\t\t\t\t}\n",
       "\t\t\t\t}\n",
       "\t\t\t}\n",
       "\t\t\tif (window.attachEvent) window.attachEvent(\"onload\", navHover);\n",
       "\n",
       "         </script>\n",
       "<style type=\"text/css\">\n",
       "\n",
       "\t\t\t\tul#navmenu {margin: 0;border: 0 none;padding: 0;list-style: none;height: 25px;}\n",
       "\t\t\t\tul#navmenu li {margin:0;border: 0 none;padding: 0 3px;float: left; /*For Gecko*/display: block;list-style: none;position: relative;height: 25px;z-index: 1000;}\n",
       "\t\t\t\tul#navmenu ul {margin:0;border: 0 none;padding: 0;width: 140px;list-style: none;display: none;position: absolute;top: 25px;left: 0;text-align:left;}\n",
       "\t\t\t\tul#navmenu ul:after /*From IE 7 lack of compliance*/{clear: both;display: block;font: 1px/0px serif;content: \".\";height: 0;visibility: hidden;}\n",
       "\t\t\t\tul#navmenu ul li {height:auto;width: 140px;float: left; /*For IE 7 lack of compliance*/display: block !important;display: inline; /*For IE*/\n",
       "\t\t\t\tmargin-top: -1px;left: -1px;}\n",
       "\t\t\t\t/* Root Menu */\n",
       "\t\t\t\tul#navmenu a {FONT-WEIGHT:BOLD;FONT-FAMILY: Verdana;COLOR: Black;FONT-SIZE:11PX;float: none !important; /*For Opera*/float: left; /*For IE*/display: block;padding:4px;text-decoration: none;height: auto !important;height: 1%; /*For IE*/}\n",
       "\t\t\t\t/* Root Menu Hover Persistence */\n",
       "\t\t\t\tul#navmenu a:hover,\n",
       "\t\t\t\tul#navmenu li:hover a,\n",
       "\t\t\t\tul#navmenu li.iehover a {color: #fff;background: #666666;}\n",
       "\t\t\t\t/* 2nd Menu */\n",
       "\t\t\t\tul#navmenu li:hover li a,\n",
       "\t\t\t\tul#navmenu li.iehover li a {float: none;background:#666;color: #fff;border: 1px solid #333; }\n",
       "\t\t\t\tul#navmenu li.iehover li a.menu-click{ float: none;background:#666; border-right:none; color: #fff;}\n",
       "\t\t\t\t/* 2nd Menu Hover Persistence */\n",
       "\t\t\t\tul#navmenu li:hover li a:hover,\n",
       "\t\t\t\tul#navmenu li:hover li:hover a,\n",
       "\t\t\t\tul#navmenu li.iehover li a:hover,\n",
       "\t\t\t\tul#navmenu li.iehover li.iehover a {background: #c9c5b6;color: #000;}\n",
       "\t\t\t\tul#navmenu li.iehover li.iehover a.menu-click{ text-decoration:none;background:#666666; border-right:none; color: #7f0101;}\n",
       "\t\t\t\tul#navmenu li.iehover li.iehover table{color: #7f0101;}\n",
       "\t\t\t\t.contentclick {font-size: 10px; color: #FFFFFF;}\n",
       "\t\t\t\t/* 3rd Menu */\n",
       "\t\t\t\tul#navmenu li:hover li:hover li a,\n",
       "\t\t\t\tul#navmenu li.iehover li.iehover li a {background:#666;color: #fff;}\n",
       "\t\t\t\t/* 3rd Menu Hover Persistence */\n",
       "\t\t\t\tul#navmenu li:hover li:hover li a:hover,\n",
       "\t\t\t\tul#navmenu li:hover li:hover li:hover a,\n",
       "\t\t\t\tul#navmenu li.iehover li.iehover li a:hover,\n",
       "\t\t\t\tul#navmenu li.iehover li.iehover li.iehover a {background: #666666;color: #fff;}\n",
       "\t\t\t\t/* 4th Menu */\n",
       "\t\t\t\tul#navmenu li:hover li:hover li:hover li a,\n",
       "\t\t\t\tul#navmenu li.iehover li.iehover li.iehover li a {background:#666;color: #fff;}\n",
       "\t\t\t\t/* 4th Menu Hover */\n",
       "\t\t\t\tul#navmenu li:hover li:hover li:hover li a:hover,\n",
       "\t\t\t\tul#navmenu li.iehover li.iehover li.iehover li a:hover {background: #666666;color: #fff;}\n",
       "\n",
       "\t\t\t\tul#navmenu ul ul,\n",
       "\t\t\t\tul#navmenu ul ul ul {display: none;position: absolute;top: 1px;left: 140px;}\n",
       "\t\t\t\t/* Do Not Move - Must Come Before display:block for Gecko */\n",
       "\t\t\t\tul#navmenu li:hover ul ul,\n",
       "\t\t\t\tul#navmenu li:hover ul ul ul,\n",
       "\t\t\t\tul#navmenu li.iehover ul ul,\n",
       "\t\t\t\tul#navmenu li.iehover ul ul ul {display: none;}\n",
       "\n",
       "\t\t\t\tul#navmenu li:hover ul,\n",
       "\t\t\t\tul#navmenu ul li:hover ul,\n",
       "\t\t\t\tul#navmenu ul ul li:hover ul,\n",
       "\t\t\t\tul#navmenu li.iehover ul,\n",
       "\t\t\t\tul#navmenu ul li.iehover ul,\n",
       "\t\t\t\tul#navmenu ul ul li.iehover ul {display: block;}\n",
       "\n",
       "            </style>\n",
       "<table align=\"center\" border=\"0\" cellpadding=\"0\" cellspacing=\"0\" class=\"ddmx\" height=\"25\" id=\"menu1\" style=\"background-image:url(/images/m_10.gif)\" width=\"809\">\n",
       "<tr>\n",
       "<td bgcolor=\"#000000\" width=\"1\"><img height=\"1\" src=\"https://cdn.naxos.com/images/blank.gif\" width=\"1\"/></td>\n",
       "<td>\n",
       "<div align=\"center\" id=\"menu\">\n",
       "<ul id=\"navmenu\" style=\"PADDING-LEFT: 11px;\">\n",
       "<li><a alt=\"New Releases\" href=\"/newreleases.asp\" title=\"New Releases\">New Releases</a></li>\n",
       "<li style=\"padding:4px 4px 4px 0px; WIDTH: 0px; height:16px;\">|</li>\n",
       "<li><a alt=\"Artists\" href=\"/artistlist.asp?show=all\" title=\"Artists\">Artists</a></li>\n",
       "<li style=\"padding:4px 4px 4px 0px; WIDTH: 0px; height:16px;\">|</li>\n",
       "<li><a alt=\"Composers\" href=\"/composerlist.asp?composer_id=A&amp;show=all&amp;composer=Classical Composer\" title=\"Composers\">Composers</a></li>\n",
       "<li style=\"padding:4px 4px 4px 0px; WIDTH: 0px; height:16px;\">|</li>\n",
       "<li><a alt=\"Labels\" href=\"/labels/default.asp\" title=\"Labels\">Labels</a></li>\n",
       "<li style=\"padding:4px 4px 4px 0px; WIDTH: 0px; height:16px;\">|</li>\n",
       "<li><a alt=\"Catalogue\" href=\"/nwgenrelist.asp\" title=\"Catalogue\">Catalogue</a>\n",
       "<ul style=\"FONT-WEIGHT: normal; FONT-SIZE: 10px\">\n",
       "<li><a alt=\"Genre\" class=\"item2\" href=\"/nwgenrelist.asp\" title=\"Genre\">Genre</a></li>\n",
       "<li><a alt=\"Period\" class=\"item2\" href=\"/nwperiodlist.asp\" title=\"Period\">Period</a></li>\n",
       "<li><a alt=\"Sets/Series\" class=\"item2\" href=\"/series/american_classics.htm\" title=\"Sets/Series\">Sets/Series</a></li>\n",
       "<li><a alt=\"Blu-ray Audio\" class=\"item2\" href=\"/blu-ray_audio.asp\" title=\"Blu-ray Audio\">Blu-ray Audio</a></li>\n",
       "<li><a alt=\"Naxos Apps\" class=\"item2\" href=\"/catalogue/apps/default.asp\" title=\"Naxos Apps\">Naxos Apps</a></li>\n",
       "</ul>\n",
       "</li>\n",
       "<li style=\"padding:4px 4px 4px 0px; WIDTH: 0px; height:16px;\">|</li>\n",
       "<li><a alt=\"Music in Movies\" href=\"/musicinmovies.asp\" title=\"Music in Movies\">Music in Movies</a>  </li>\n",
       "<li style=\"padding:4px 4px 4px 0px; WIDTH: 0px; height:16px;\">|</li>\n",
       "<li><a alt=\"News\" href=\"/news/default.asp\" title=\"News\">News</a></li>\n",
       "<li style=\"padding:4px 4px 4px 0px; WIDTH: 0px; height:16px;\">|</li>\n",
       "<li><a alt=\"Reviews\" href=\"/reviews/reviews.asp\" title=\"Reviews\">Reviews</a></li>\n",
       "<li style=\"padding:4px 4px 4px 0px; WIDTH: 0px; height:16px;\">|</li>\n",
       "<li><a alt=\"Buy Online\" href=\"/buyonline.asp\" title=\"Buy Online\">Buy Online</a></li>\n",
       "<li style=\"padding:4px 4px 4px 0px; WIDTH: 0px; height:16px;\">|</li>\n",
       "<li><a alt=\"Catalogue\" href=\"#\" title=\"Catalogue\">Country</a>\n",
       "<ul style=\"FONT-WEIGHT: normal; FONT-SIZE: 10px\">\n",
       "<li><a alt=\"Naxos Global Site\" class=\"item2\" href=\"#\" title=\"Naxos Global Site\">Global Site</a></li>\n",
       "<li><a alt=\"Australia\" class=\"item2\" href=\"https://www.savd.com.au/\" target=\"_blank\" title=\"Australia\">Australia</a></li>\n",
       "<li><a alt=\"Canada\" class=\"item2\" href=\"/naxos/countries/usa/\" target=\"_blank\" title=\"Canada\">Canada</a></li>\n",
       "<li><a alt=\"China\" class=\"item2\" href=\"https://www.naxos.com.cn/\" target=\"_blank\" title=\"China\">China</a></li>\n",
       "<li><a alt=\"Denmark\" class=\"item2\" href=\"https://www.naxosdirect.dk/\" target=\"_blank\" title=\"Denmark\">Denmark</a></li>\n",
       "<li><a alt=\"Finland\" class=\"item2\" href=\"https://www.fg-naxos.fi/\" target=\"_blank\" title=\"Finland\">Finland</a></li>\n",
       "<li><a alt=\"France\" class=\"item2\" href=\"/naxos/countries/France/\" target=\"_blank\" title=\"France\">France</a></li>\n",
       "<li><a alt=\"Germany\" class=\"item2\" href=\"https://www.naxos.de/\" target=\"_blank\" title=\"Germany\">Germany</a></li>\n",
       "<li><a alt=\"Hong Kong\" class=\"item2\" href=\"https://www.naxos.com.hk/\" target=\"_blank\" title=\"Hong Kong\">Hong Kong</a></li>\n",
       "<li><a alt=\"Japan\" class=\"item2\" href=\"https://www.naxos.co.jp/\" target=\"_blank\" title=\"Japan\">Japan</a></li>\n",
       "<li><a alt=\"Korea\" class=\"item2\" href=\"https://www.naxos.co.kr/\" target=\"_blank\" title=\"Korea\">Korea</a></li>\n",
       "<li><a alt=\"New Zealand\" class=\"item2\" href=\"/naxos/countries/newzealand/\" target=\"_blank\" title=\"New Zealand\">New Zealand</a></li>\n",
       "<li><a alt=\"Norway\" class=\"item2\" href=\"https://www.naxosdirect.no\" target=\"_blank\" title=\"Norway\">Norway</a></li>\n",
       "<li><a alt=\"Sweden\" class=\"item2\" href=\"https://www.naxosdirect.se\" target=\"_blank\" title=\"Sweden\">Sweden</a></li>\n",
       "<li><a alt=\"UK\" class=\"item2\" href=\"/naxos/countries/uk/\" target=\"_blank\" title=\"UK\">UK</a></li>\n",
       "<li><a alt=\"USA\" class=\"item2\" href=\"/naxos/countries/usa/\" target=\"_blank\" title=\"USA\">USA</a></li>\n",
       "</ul>\n",
       "</li>\n",
       "</ul>\n",
       "</div>\n",
       "</td>\n",
       "<td bgcolor=\"#000000\" width=\"1\"><img height=\"1\" src=\"https://cdn.naxos.com/images/blank.gif\" width=\"1\"/></td>\n",
       "</tr>\n",
       "</table>\n",
       "<table align=\"center\" border=\"0\" cellpadding=\"0\" cellspacing=\"0\" width=\"809\">\n",
       "<tr><td bgcolor=\"#000000\" width=\"1\"><img height=\"1\" src=\"/images/blank.gif\" width=\"1\"/></td>\n",
       "<td bgcolor=\"#FFFFFF\" style=\"background-image:url('/images/bg_main.gif'); background-repeat:no-repeat\" valign=\"top\">\n",
       "<div id=\"divFloat\" style=\"top: 160px; padding: 2px 2px 2px 2px; width: 215px; right: 19%;\n",
       "    border: solid navy 1px; position: absolute; height: 275px; background-color: #CCCCCC;\n",
       "    text-align: right; display: none\">\n",
       "<a onclick=\"document.getElementById('divFloat').style.display='none';\" onmouseover=\"{this.style.cursor='hand';}\">\n",
       "<img alt=\"\" border=\"0\" height=\"12px\" src=\"https://cdn.naxos.com/images/l_x.gif\"/></a> \n",
       "    \n",
       "    <div id=\"divCollapse\" style=\"display: none\" v=\"\">\n",
       "<script language=\"JavaScript\">\n",
       "<!--\n",
       "            function Parametrize_Search() {\n",
       "                var d = document.frmSearch;\n",
       "                var reqCategory, reqIsNewSearch, reqComposer, reqArtist, reqCompos, reqDisc, reqCatId, qs_;\n",
       "                //alert(d);\n",
       "\n",
       "\n",
       "                /* JavaScript Client Code */\n",
       "\n",
       "                reqCategory = d.txtCategory.value;\n",
       "                reqIsNewSearch = d.blnIsNewSearch.value;\n",
       "                reqComposer = d.txtComposer.value;\n",
       "                reqArtist = d.txtArtist.value;\n",
       "                reqCompos = d.txtComposition.value;\n",
       "                reqDisc = d.txtDisc.value;\n",
       "                reqCatId = d.txtCatalogue.value;\n",
       "\n",
       "\n",
       "                var regExp = /\\s+/g;\n",
       "                qs_ = \"\";\n",
       "\n",
       "                if ((reqComposer.length == 0) && (reqArtist.length == 0)\n",
       "\t\t&& (reqCompos.length == 0) && (reqDisc.length == 0) && (reqCatId.length == 0) == true) {\n",
       "                    alert(\"Please enter at least one search field.\");\n",
       "                    return (false);\n",
       "                }\n",
       "\n",
       "                if (reqCategory.length > 0)\n",
       "                    qs_ = \"txtCategory=\" + reqCategory;\n",
       "                if (reqIsNewSearch.length > 0)\n",
       "                    qs_ = qs_ + \"blnIsNewSearch=\" + reqIsNewSearch;\n",
       "                if (reqComposer.length > 0)\n",
       "                    qs_ = qs_ + \"&txtComposer=\" + reqComposer.replace(regExp, \"_\");\n",
       "                if (reqArtist.length > 0)\n",
       "                    qs_ = qs_ + \"&txtArtist=\" + reqArtist.replace(regExp, \"_\");\n",
       "                if (reqCompos.length > 0)\n",
       "                    qs_ = qs_ + \"&txtComposition=\" + reqCompos.replace(regExp, \"_\");\n",
       "                if (reqDisc.length > 0)\n",
       "                    qs_ = qs_ + \"&txtDisc=\" + reqDisc.replace(regExp, \"_\");\n",
       "                if (reqCatId.length > 0)\n",
       "                    qs_ = qs_ + \"&txtCatalogue=\" + reqCatId.replace(regExp, \"_\");\n",
       "\n",
       "                d.action = \"/searchresults.asp?\" + qs_;\n",
       "                d.submit();\n",
       "            }\n",
       "\n",
       "\n",
       "//-->\n",
       "        </script>\n",
       "<form method=\"post\" name=\"frmSearch\" onsubmit=\"return Parametrize_Search();\" style=\"margin-bottom: 3px;\n",
       "        margin-top: 0\">\n",
       "<input name=\"txtCategory\" type=\"hidden\"/>\n",
       "<input name=\"blnIsNewSearch\" type=\"hidden\" value=\"1\"/>\n",
       "<table align=\"center\" border=\"0\" cellpadding=\"2\" cellspacing=\"2\" width=\"215\">\n",
       "<tr>\n",
       "<td align=\"center\" width=\"100%\">\n",
       "<table border=\"0\" cellpadding=\"1\" cellspacing=\"2\" width=\"200\">\n",
       "<tr>\n",
       "<!-- onkeyup=\"getKey()\"-->\n",
       "<td align=\"left\" class=\"search-title\">\n",
       "                                Composer<br/>\n",
       "<input name=\"txtComposer\" onkeyup=\"getKey()\" size=\"25\" type=\"text\" value=\"\"/>\n",
       "</td>\n",
       "</tr>\n",
       "<tr>\n",
       "<td align=\"left\" class=\"search-title\">\n",
       "                                Artist<br/>\n",
       "<input name=\"txtArtist\" onkeyup=\"getKey()\" size=\"25\" type=\"text\" value=\"\"/>\n",
       "</td>\n",
       "</tr>\n",
       "<tr>\n",
       "<td align=\"left\" class=\"search-title\">\n",
       "                                Composition Title<br/>\n",
       "<input name=\"txtComposition\" onkeyup=\"getKey()\" size=\"25\" type=\"text\" value=\"\"/>\n",
       "</td>\n",
       "</tr>\n",
       "<tr>\n",
       "<td align=\"left\" class=\"search-title\">\n",
       "                                Disc Title<br/>\n",
       "<input name=\"txtDisc\" onkeyup=\"getKey()\" size=\"25\" type=\"text\" value=\"\"/>\n",
       "</td>\n",
       "</tr>\n",
       "<tr>\n",
       "<td align=\"left\" class=\"search-title\">\n",
       "                                Catalogue No.<br/>\n",
       "<input name=\"txtCatalogue\" onkeyup=\"getKey()\" size=\"25\" type=\"text\" value=\"\"/>\n",
       "</td>\n",
       "</tr>\n",
       "</table>\n",
       "</td>\n",
       "</tr>\n",
       "<tr>\n",
       "<td align=\"left\">\n",
       "<input name=\"btnSubmit\" src=\"https://cdn.naxos.com/images/search.gif\" type=\"image\" value=\"Submit\"/>\n",
       "</td>\n",
       "</tr>\n",
       "<!--tr>\n",
       "\t\t\t   <td align=\"left\">\n",
       "                              <span style=\"font-weight:bold;font-size:10px;color:#000\">* <u><a style=\"color:#000\" href=\"#keywordsearchonfooter\">Try our keyword search</a></u></span>\n",
       "\t\t\t   </td>\n",
       "\t\t\t </tr-->\n",
       "</table>\n",
       "</form>\n",
       "</div>\n",
       "<script language=\"javascript\">\n",
       "        function getKey() {\n",
       "            if (event.keyCode == '13') {\n",
       "                //window.document.frmSearch.submit();\n",
       "                Parametrize_Search();\n",
       "            }\n",
       "        }\n",
       "    </script>\n",
       "</div>\n",
       "<script language=\"javascript\">    document.getElementById('divCollapse').style.display = '';</script>\n",
       "<script language=\"JavaScript\" type=\"text/JavaScript\">\n",
       "<!--\n",
       "    function hideSelect()\n",
       "    { if (document.all) { document.all.formselect.style.visibility = \"hidden\"; } }\n",
       "\n",
       "    function unhideSelect()\n",
       "    { if (document.all) { document.all.formselect.style.visibility = \"visible\"; } }\n",
       "//-->\n",
       "</script>\n",
       "<a onclick=\"document.getElementById('divFloat').style.display='';\" onmouseover=\"{this.style.cursor='hand';}\">\n",
       "<img align=\"right\" alt=\"\" border=\"0\" id=\"imgSearch\" src=\"https://cdn.naxos.com/images/search_s.gif\"/></a>\n",
       "<div style=\"padding-top:5px\"> <span class=\"style5\"><a href=\"/\">Classical Music Home</a> &gt; <a href=\"/musicinmovies.asp\">Classical Music in Movies</a>  &gt; I</span></div>\n",
       "<br/><br/>\n",
       "<img height=\"52\" src=\"images/music_h.gif\" style=\"padding-top:12px\" width=\"500\"/><br/>\n",
       "<table align=\"center\" border=\"0\" width=\"650\">\n",
       "<tr><td align=\"center\" height=\"23\"><b>\n",
       "<a href=\"/musicinmoviescomplist.asp?letter=0-9\">0-9</a>  \n",
       "\t\n",
       "\t\t\t\t<a href=\"/musicinmoviescomplist.asp?letter=A\">A</a>  \n",
       "\t\t\t\n",
       "\t\t\t\t<a href=\"/musicinmoviescomplist.asp?letter=B\">B</a>  \n",
       "\t\t\t\n",
       "\t\t\t\t<a href=\"/musicinmoviescomplist.asp?letter=C\">C</a>  \n",
       "\t\t\t\n",
       "\t\t\t\t<a href=\"/musicinmoviescomplist.asp?letter=D\">D</a>  \n",
       "\t\t\t\n",
       "\t\t\t\t<a href=\"/musicinmoviescomplist.asp?letter=E\">E</a>  \n",
       "\t\t\t\n",
       "\t\t\t\t<a href=\"/musicinmoviescomplist.asp?letter=F\">F</a>  \n",
       "\t\t\t\n",
       "\t\t\t\t<a href=\"/musicinmoviescomplist.asp?letter=G\">G</a>  \n",
       "\t\t\t\n",
       "\t\t\t\t<a href=\"/musicinmoviescomplist.asp?letter=H\">H</a>  \n",
       "\t\t\t\n",
       "\t\t\t<img align=\"absmiddle\" border=\"0\" src=\"/SharedFiles/images/letters/l_I.gif\"/>  \n",
       "\t\t\t\n",
       "\t\t\t\t<a href=\"/musicinmoviescomplist.asp?letter=J\">J</a>  \n",
       "\t\t\t\n",
       "\t\t\t\t<a href=\"/musicinmoviescomplist.asp?letter=K\">K</a>  \n",
       "\t\t\t\n",
       "\t\t\t\t<a href=\"/musicinmoviescomplist.asp?letter=L\">L</a>  \n",
       "\t\t\t\n",
       "\t\t\t\t<a href=\"/musicinmoviescomplist.asp?letter=M\">M</a>  \n",
       "\t\t\t\n",
       "\t\t\t\t<a href=\"/musicinmoviescomplist.asp?letter=N\">N</a>  \n",
       "\t\t\t\n",
       "\t\t\t\t<a href=\"/musicinmoviescomplist.asp?letter=O\">O</a>  \n",
       "\t\t\t\n",
       "\t\t\t\t<a href=\"/musicinmoviescomplist.asp?letter=P\">P</a>  \n",
       "\t\t\t\n",
       "\t\t\t\t<a href=\"/musicinmoviescomplist.asp?letter=Q\">Q</a>  \n",
       "\t\t\t\n",
       "\t\t\t\t<a href=\"/musicinmoviescomplist.asp?letter=R\">R</a>  \n",
       "\t\t\t\n",
       "\t\t\t\t<a href=\"/musicinmoviescomplist.asp?letter=S\">S</a>  \n",
       "\t\t\t\n",
       "\t\t\t\t<a href=\"/musicinmoviescomplist.asp?letter=T\">T</a>  \n",
       "\t\t\t\n",
       "\t\t\t\t<a href=\"/musicinmoviescomplist.asp?letter=U\">U</a>  \n",
       "\t\t\t\n",
       "\t\t\t\t<a href=\"/musicinmoviescomplist.asp?letter=V\">V</a>  \n",
       "\t\t\t\n",
       "\t\t\t\t<a href=\"/musicinmoviescomplist.asp?letter=W\">W</a>  \n",
       "\t\t\t\n",
       "\t\t\t\t<a href=\"/musicinmoviescomplist.asp?letter=X\">X</a>  \n",
       "\t\t\t\n",
       "\t\t\t\t<a href=\"/musicinmoviescomplist.asp?letter=Y\">Y</a>  \n",
       "\t\t\t\n",
       "\t\t\t\t<a href=\"/musicinmoviescomplist.asp?letter=Z\">Z</a>  \n",
       "\t\t\t</b></td></tr>\n",
       "</table>\n",
       "<table align=\"center\" border=\"0\" cellpadding=\"15\" cellspacing=\"0\" width=\"650\">\n",
       "<tr><td class=\"style5\">\n",
       "<!-- START REVIEWS -->\n",
       "<table align=\"center\" bgcolor=\"#CCCCCC\" border=\"0\" cellpadding=\"4\" cellspacing=\"1\" width=\"650\">\n",
       "<tr><td bgcolor=\"#EEEEEE\"><b>IBERT, JACQUES</b></td></tr>\n",
       "<tr><td bgcolor=\"#ffffff\" class=\"style5\">\n",
       "<div style=\"border-top:1px dotted #999999; border-bottom:1px dotted #999999; padding:3px 0px; margin:0px 0px\">\n",
       "\t\t\t\t\t\t\tFlute Concerto: II. Andante <span class=\"style1\">(Capriccio <a href=\"https://www.naxos.com/catalogue/item.asp?item_code=C71028\">C71028</a> )</span><br/><i>Dionysia (A) (2015)</i><br/>\n",
       "</div>\n",
       "</td></tr>\n",
       "<tr><td bgcolor=\"#EEEEEE\"><b>IPPOLITOV-IVANOV, MIKHAIL MIKHAYLOVICH</b></td></tr>\n",
       "<tr><td bgcolor=\"#ffffff\" class=\"style5\">\n",
       "<div style=\"border-top:1px dotted #999999; border-bottom:1px dotted #999999; padding:3px 0px; margin:0px 0px\">\n",
       "\t\t\t\t\t\t\tCaucasian Sketches, Suite No. 1, Op. 10: IV. Procession of the Sardar <span class=\"style1\">(<a href=\"https://www.naxos.com/catalogue/item.asp?item_code=8.553405\">8.553405</a> )</span><br/><i>Curse of the Mummy's Tomb (The) (1964)</i><br/>\n",
       "</div>\n",
       "</td></tr>\n",
       "<tr><td bgcolor=\"#EEEEEE\"><b>IVANOVICI, IOSIF</b></td></tr>\n",
       "<tr><td bgcolor=\"#ffffff\" class=\"style5\">\n",
       "<div style=\"border-top:1px dotted #999999; border-bottom:1px dotted #999999; padding:3px 0px; margin:0px 0px\">\n",
       "\t\t\t\t\t\t\tValurile Dunarii (The Danube Waves) <span class=\"style1\">(<a href=\"https://www.naxos.com/catalogue/item.asp?item_code=8.553337\">8.553337</a> )</span><br/><i>Great Caruso (The) (1951) <br/> Men of Boys Town (1941)</i><br/>\n",
       "</div>\n",
       "</td></tr>\n",
       "<tr><td bgcolor=\"#EEEEEE\"><b>IVES, CHARLES</b></td></tr>\n",
       "<tr><td bgcolor=\"#ffffff\" class=\"style5\">\n",
       "<div style=\"border-top:1px dotted #999999; border-bottom:1px dotted #999999; padding:3px 0px; margin:0px 0px\">\n",
       "\t\t\t\t\t\t\tThe Unanswered Question <span class=\"style1\">(<a href=\"https://www.naxos.com/catalogue/item.asp?item_code=8.559087\">8.559087</a> )</span><br/><i>Run Lola Run (Lola rennt) (1998) <br/> Thin Red Line (The) (1998) <br/> Valley of Love (2015)</i><br/>\n",
       "</div>\n",
       "</td></tr>\n",
       "</table>\n",
       "<!-- END REVIEWS -->\n",
       "</td></tr></table>\n",
       "<div align=\"center\"><strong>Classical Music in Movies and Classical Soundtrack collection - Naxos.com </strong></div>\n",
       "<br/><br/>\n",
       "</td>\n",
       "<td bgcolor=\"#000000\" width=\"1\"><img height=\"1\" src=\"/images/blank.gif\" width=\"1\"/></td>\n",
       "</tr>\n",
       "</table>\n",
       "<style>\n",
       "            .HFooter{\n",
       "                background-color: #e7e7e7;\n",
       "                padding-top: 30px;\n",
       "                clear: both;\n",
       "            }\n",
       "            .HFooter a:link {\n",
       "                color:black;\n",
       "            }\n",
       "            .HFooter a:visited {\n",
       "                color:purple;\n",
       "            }\n",
       "            .HFooter .headerTitle {\n",
       "                font-family: 'Roboto', sans-serif;\n",
       "                font-size: 16px;\n",
       "            }\n",
       "            .HFooter .subText {\n",
       "                font-family: 'Roboto', sans-serif;\n",
       "                font-size: 10px;\n",
       "                color:black;\n",
       "                padding-top: 5px;\n",
       "            }\n",
       "            .HFooter .subLinks {\n",
       "                font-family: 'Roboto', sans-serif;\n",
       "                font-size: 11px;\n",
       "                padding-top: 10px;\n",
       "            }\n",
       "            .HFooter .socialmedia {\n",
       "                float: left;\n",
       "                width: 30px;\n",
       "            }\n",
       "            .HFooter .socialmedia:hover {\n",
       "                background-color: lightgrey;\n",
       "            }\n",
       "            .BottomFooter {\n",
       "                background-color: #282828;\n",
       "                height: 50px;\n",
       "                text-align:center;\n",
       "                font-size: 10px;\n",
       "            }\n",
       "            .BottomFooter .CopyRight {\n",
       "                color: #777777;\n",
       "                padding-top: 15px;\n",
       "            }\n",
       "            .BottomFooter .TermsPolicy {\n",
       "                color:lightgrey;\n",
       "            }\n",
       "        .membersection {\n",
       "            height: 55px;\n",
       "            clear:both;\n",
       "            margin: 0;\n",
       "            background: #004E95;\n",
       "        }\n",
       "        .membertext {\n",
       "            text-align: center;\n",
       "            display:block;\n",
       "            font-family: 'Roboto', sans-serif, Verdana;\n",
       "            font-size: 1.5em;\n",
       "            color: #ffffff !important;\n",
       "            padding-top: 15px;\n",
       "        }\n",
       "        .membertext a {\n",
       "            color: white;\n",
       "            text-decoration: none;\n",
       "            font-size: 22px;\n",
       "            font-weight: 700;\n",
       "        }\n",
       "        </style>\n",
       "<table align=\"center\" border=\"0\" cellpadding=\"0\" cellspacing=\"0\" width=\"809\">\n",
       "<tr>\n",
       "<td bgcolor=\"#000000\" width=\"1\"><img alt=\"\" height=\"1\" src=\"/images/blank.gif\" width=\"1\"/>\n",
       "</td><td align=\"center\">\n",
       "<div class=\"membersection\">\n",
       "<div class=\"membertext\">Naxos Records, a member of the <a href=\"https://www.naxosmusicgroup.com/\" target=\"_blank\">Naxos Music Group</a></div>\n",
       "</div>\n",
       "<div class=\"HFooter\">\n",
       "<table border=\"0\" style=\"width:100%;\">\n",
       "<tr>\n",
       "<td style=\"width:3%;\"> </td>\n",
       "<td style=\"width:22%;border-bottom:1px solid gray;\">\n",
       "<span class=\"headerTitle\">Naxos Records</span>\n",
       "</td>\n",
       "<td style=\"width:2%;\"> </td>\n",
       "<td style=\"width:22%;border-bottom:1px solid gray;\">\n",
       "<span class=\"headerTitle\">Education &amp; Resources</span>\n",
       "</td>\n",
       "<td style=\"width:2%;\"> </td>\n",
       "<td style=\"width:22%;border-bottom:1px solid gray;\">\n",
       "<span class=\"headerTitle\">Streaming Services</span>\n",
       "</td>\n",
       "<td style=\"width:2%;\"> </td>\n",
       "<td style=\"width:22%;border-bottom:1px solid gray;\">\n",
       "<span class=\"headerTitle\">Recommended Sites</span>\n",
       "</td>\n",
       "<td style=\"width:3%;\"> </td>\n",
       "</tr>\n",
       "<tr>\n",
       "<td></td>\n",
       "<td style=\"vertical-align:top;\">\n",
       "<a href=\"/aboutus.asp\"><div class=\"subLinks\">About Us</div></a>\n",
       "<a href=\"/contactus.asp\"><div class=\"subLinks\">Contact Us</div></a>\n",
       "<a href=\"/distributors.asp\"><div class=\"subLinks\">Distributors</div></a>\n",
       "<a href=\"/reviews/reviewsarchive.asp\"><div class=\"subLinks\">Reviews Archive</div></a>\n",
       "<a href=\"/newsletter.asp\"><div class=\"subLinks\">Newsletter Archive</div></a>\n",
       "<a href=\"/feature/weekly_features.asp\"><div class=\"subLinks\">Weekly Feature Archive</div></a>\n",
       "<a href=\"/ecard_archive.asp\"><div class=\"subLinks\">Ecards Archive</div></a>\n",
       "<a href=\"/naxosrsslist.asp\"><div class=\"subLinks\">RSS Feeds</div></a>\n",
       "<a href=\"/sitemap.asp\"><div class=\"subLinks\">Site Map</div></a>\n",
       "<a href=\"/faq.asp\"><div class=\"subLinks\">FAQs</div></a>\n",
       "</td>\n",
       "<td></td>\n",
       "<td style=\"vertical-align:top;\">\n",
       "<a href=\"/education/introduction.asp\"><div class=\"subLinks\">Introduction to Classical Music</div></a>\n",
       "<a href=\"/education/opera_intro.asp\"><div class=\"subLinks\">Introduction to Opera</div></a>\n",
       "<a href=\"/education/glossary.asp\"><div class=\"subLinks\">Glossary of Musical Terms</div></a>\n",
       "<a href=\"/labels/naxos_educational-az.htm\"><div class=\"subLinks\">Naxos A-Z Educational Recordings</div></a>\n",
       "<a href=\"/labels/naxos_educational-newreleases.htm\"><div class=\"subLinks\">Naxos New Educational Albums</div></a>\n",
       "<a href=\"/workman/sampler-buy.asp\"><div class=\"subLinks\">Encyclopedia of Classical Music</div></a>\n",
       "<a href=\"/cme/default.asp\"><div class=\"subLinks\">Classical Music Experience</div></a>\n",
       "<a href=\"/newDesign/fbuild.files/bbuild.files/build.htm\"><div class=\"subLinks\">How to Build a Classical CD Collection</div></a>\n",
       "<a href=\"/education/enjoy_intro.asp\"><div class=\"subLinks\">How to Enjoy A Live Concert</div></a>\n",
       "<a href=\"/education/opera_libretti.asp?pn=&amp;char=ALL&amp;composer=Beethoven&amp;opera=Fidelio&amp;libretto_file=English/0_Title_Page.htm\"><div class=\"subLinks\">Opera Libretti</div></a>\n",
       "<a href=\"/education/sungtext_libretti.asp\"><div class=\"subLinks\">Sung Texts</div></a>\n",
       "</td>\n",
       "<td></td>\n",
       "<td style=\"vertical-align:top;\">\n",
       "<div class=\"subText\">Services below require separate subscription. Click to learn more.</div>\n",
       "<a href=\"https://www.naxosmusiclibrary.com/\" target=\"_blank\"><div class=\"subLinks\">Naxos Music Library</div></a>\n",
       "<a href=\"https://www.naxosmusiclibrary.com/jazz\" target=\"_blank\"><div class=\"subLinks\">Naxos Music Library Jazz</div></a>\n",
       "<a href=\"https://www.naxosmusiclibrary.com/World/home.asp?rurl=/world/default.asp\" target=\"_blank\"><div class=\"subLinks\">Naxos Music Library World</div></a>\n",
       "<a href=\"https://www.naxosspokenwordlibrary.com/\" target=\"_blank\"><div class=\"subLinks\">Naxos Spoken Word Library</div></a>\n",
       "<a href=\"https://www.naxosradio.com/\" target=\"_blank\"><div class=\"subLinks\">Naxos Radio</div></a>\n",
       "<a href=\"https://www.naxosvideolibrary.com/\" target=\"_blank\"><div class=\"subLinks\">Naxos Video Library</div></a>\n",
       "</td>\n",
       "<td></td>\n",
       "<td style=\"vertical-align:top;\">\n",
       "<a href=\"https://blog.naxos.com/\" target=\"_blank\"><div class=\"subLinks\">Naxos Blog</div></a>\n",
       "<a href=\"https://www.naxos.com/naxosbooks/naxosbooks.asp\" target=\"_blank\"><div class=\"subLinks\">Naxos Books and Ebooks</div></a>\n",
       "<a href=\"https://www.naxosaudiobooks.com/\" target=\"_blank\"><div class=\"subLinks\">Naxos AudioBooks</div></a>\n",
       "<a href=\"https://www.naxoslicensing.com/\" target=\"_blank\"><div class=\"subLinks\">Naxos Licensing</div></a>\n",
       "<a href=\"https://blog.naxos.com/category/podcast/\" target=\"_blank\"><div class=\"subLinks\">Naxos Podcasts</div></a>\n",
       "<a href=\"https://www.naxosworks.com/\" target=\"_blank\"><div class=\"subLinks\">Naxos Works Database</div></a>\n",
       "<a href=\"https://www.artaria.com/\" target=\"_blank\"><div class=\"subLinks\">Artaria Editions</div></a>\n",
       "<p></p>\n",
       "<div class=\"subLinks\" style=\"border-bottom:1px solid gray;\"><span class=\"headerTitle\">Follow Us</span></div>\n",
       "<p></p>\n",
       "<div>\n",
       "<div class=\"socialmedia\"><a href=\"https://www.facebook.com/naxos\" target=\"_blank\" title=\"Facebook\"><img height=\"30\" src=\"/images/socialmedia/facebook.png\" width=\"30\"/></a></div>\n",
       "<div class=\"socialmedia\"><a href=\"https://twitter.com/Naxosrecords\" target=\"_blank\" title=\"Twitter\"><img height=\"30\" src=\"/images/socialmedia/twitter.png\" width=\"30\"/></a></div>\n",
       "<div class=\"socialmedia\"><a href=\"https://www.youtube.com/naxosvideos\" target=\"_blank\" title=\"YouTube\"><img height=\"30\" src=\"/images/socialmedia/youtube.png\" width=\"30\"/></a></div>\n",
       "<div class=\"socialmedia\"><a href=\"https://vimeo.com/user8854130\" target=\"_blank\" title=\"Vimeo\"><img height=\"30\" src=\"/images/socialmedia/vimeo.png\" width=\"30\"/></a></div>\n",
       "<div class=\"socialmedia\"><a href=\"https://blog.naxos.com/\" target=\"_blank\" title=\"Blogger\"><img height=\"30\" src=\"/images/socialmedia/blogger.png\" width=\"30\"/></a></div>\n",
       "</div>\n",
       "</td>\n",
       "<td></td>\n",
       "</tr>\n",
       "</table><br/><br/>\n",
       "</div>\n",
       "<div class=\"BottomFooter\">\n",
       "<div class=\"CopyRight\">Copyright © 2019 Naxos Digital Services Ltd. All rights reserved.     <a class=\"TermsPolicy\" href=\"/h_terms.asp\">Terms of Use</a>     <a class=\"TermsPolicy\" href=\"/h_privacy.asp\">Privacy Policy</a>     -246-</div>\n",
       "</div>\n",
       "</td>\n",
       "<td bgcolor=\"#000000\" width=\"1\"><img alt=\"\" height=\"1\" src=\"/images/blank.gif\" width=\"1\"/>\n",
       "</td></tr>\n",
       "</table>\n",
       "<div class=\"cookie-policy cookie-policy-hide\" id=\"cookie-policy\">\n",
       "<div class=\"cookie-close\"><span onclick=\"closeCookie();\"><img height=\"25\" src=\"/images/close.png\" width=\"25\"/></span></div>\n",
       "<div class=\"cookie-content\">\n",
       "<span>We use cookies to improve the use of our website, our products and services, and confirm your login authorization or initial creation of account. By clicking \"Ok\" or by continuing to use our website, you agree to cookies being set on your device as explained in our <a class=\"cookie-link\" href=\"\\h_privacy.asp\">Privacy Policy</a>. You may <a class=\"cookie-link\" href=\"\\h_privacy.asp#cookie\">disable the use of cookies</a> if you do not wish to accept them, however, this may limit the website's overall functionality.</span>\n",
       "</div>\n",
       "<div class=\"cookie-agree\"><span onclick=\"acceptCookie();\"><img height=\"25\" src=\"/images/agree.png\" width=\"25\"/> Ok</span></div>\n",
       "</div>\n",
       "<div class=\"cookie-config cookie-policy-hide\" id=\"cookie-config\">\n",
       "<div class=\"cookie-config-content\">\n",
       "<div onclick=\"showCookie();\"><img height=\"15\" src=\"/images/settings.png\" width=\"15\"/> Cookie Policy</div>\n",
       "</div>\n",
       "</div>\n",
       "<script type=\"text/javascript\">\n",
       "            checkCookie();\n",
       "        </script>\n",
       "<script type=\"text/javascript\">\n",
       "\t\t\tfunction Parametrize_KWSearch()\n",
       "\t\t\t{\n",
       "\t\t\t\tvar d=document.frmKWsearch;\n",
       "\n",
       "\t\t\t\tif ((d.q.value.length==0) ==true)\n",
       "\n",
       "\t\t\t\t{\n",
       "\t\t\t\t\talert(\"Please enter at least one search field.\");\n",
       "\t\t\t\t\t\t\td.q.value='';\n",
       "\t\t\t\t\t\t\td.q.focus();\n",
       "\t\t\t\t\treturn(false);\n",
       "\t\t\t\t}\n",
       "\n",
       "\t\t\t\t\t\t//d.action=\"/search/RYkwsresults.asp?q=dog+more:biograhies&cx=014671119000192421307:futskzv9xio&cof=FORID:9&ie=UTF-8&google_rsg=__GggkaUzWy76c2ckkMgpmu1ElRAE=&q=apple+more:biograhies&cx=014671119000192421307:futskzv9xio&sa=N&oi=coopctx&resnum=0&ct=col3&cd=1\";\n",
       "\t\t\t\t\t\t//d.submit();\n",
       "\t\t\t}\n",
       "\t\t</script>\n",
       "<!--\n",
       "        Comment: Classical Analytics\n",
       "        <script type=\"text/javascript\">\n",
       "\t        var gaJsHost = ((\"https:\" == document.location.protocol) ? \"https://ssl.\" : \"https://www.\");\n",
       "\t        document.write(unescape(\"<script src='\" + gaJsHost + \"google-analytics.com/ga.js' type='text/javascript'></script>\"));\n",
       "\n",
       "        </script>\n",
       "        <script type=\"text/javascript\">\n",
       "\t        var pageTracker = _gat._getTracker(\"UA-1066651-1\");\n",
       "\t        pageTracker._initData();\n",
       "\t        pageTracker._trackPageview(); \n",
       "        </script>\n",
       "        -->\n",
       "</body>\n",
       "</html>\n",
       ">"
      ]
     },
     "execution_count": 9,
     "metadata": {},
     "output_type": "execute_result"
    }
   ],
   "source": [
    "soup.prettify()"
   ]
  },
  {
   "cell_type": "markdown",
   "metadata": {},
   "source": [
    "Now let's try to get the diff composers from this page"
   ]
  },
  {
   "cell_type": "code",
   "execution_count": 20,
   "metadata": {},
   "outputs": [
    {
     "name": "stdout",
     "output_type": "stream",
     "text": [
      "<td class=\"style5\">\n",
      "<!-- START REVIEWS -->\n",
      "<table align=\"center\" bgcolor=\"#CCCCCC\" border=\"0\" cellpadding=\"4\" cellspacing=\"1\" width=\"650\">\n",
      "<tr><td bgcolor=\"#EEEEEE\"><b>IBERT, JACQUES</b></td></tr>\n",
      "<tr><td bgcolor=\"#ffffff\" class=\"style5\">\n",
      "<div style=\"border-top:1px dotted #999999; border-bottom:1px dotted #999999; padding:3px 0px; margin:0px 0px\">\n",
      "\t\t\t\t\t\t\tFlute Concerto: II. Andante <span class=\"style1\">(Capriccio <a href=\"https://www.naxos.com/catalogue/item.asp?item_code=C71028\">C71028</a> )</span><br/><i>Dionysia (A) (2015)</i><br/>\n",
      "</div>\n",
      "</td></tr>\n",
      "<tr><td bgcolor=\"#EEEEEE\"><b>IPPOLITOV-IVANOV, MIKHAIL MIKHAYLOVICH</b></td></tr>\n",
      "<tr><td bgcolor=\"#ffffff\" class=\"style5\">\n",
      "<div style=\"border-top:1px dotted #999999; border-bottom:1px dotted #999999; padding:3px 0px; margin:0px 0px\">\n",
      "\t\t\t\t\t\t\tCaucasian Sketches, Suite No. 1, Op. 10: IV. Procession of the Sardar <span class=\"style1\">(<a href=\"https://www.naxos.com/catalogue/item.asp?item_code=8.553405\">8.553405</a> )</span><br/><i>Curse of the Mummy's Tomb (The) (1964)</i><br/>\n",
      "</div>\n",
      "</td></tr>\n",
      "<tr><td bgcolor=\"#EEEEEE\"><b>IVANOVICI, IOSIF</b></td></tr>\n",
      "<tr><td bgcolor=\"#ffffff\" class=\"style5\">\n",
      "<div style=\"border-top:1px dotted #999999; border-bottom:1px dotted #999999; padding:3px 0px; margin:0px 0px\">\n",
      "\t\t\t\t\t\t\tValurile Dunarii (The Danube Waves) <span class=\"style1\">(<a href=\"https://www.naxos.com/catalogue/item.asp?item_code=8.553337\">8.553337</a> )</span><br/><i>Great Caruso (The) (1951) <br/> Men of Boys Town (1941)</i><br/>\n",
      "</div>\n",
      "</td></tr>\n",
      "<tr><td bgcolor=\"#EEEEEE\"><b>IVES, CHARLES</b></td></tr>\n",
      "<tr><td bgcolor=\"#ffffff\" class=\"style5\">\n",
      "<div style=\"border-top:1px dotted #999999; border-bottom:1px dotted #999999; padding:3px 0px; margin:0px 0px\">\n",
      "\t\t\t\t\t\t\tThe Unanswered Question <span class=\"style1\">(<a href=\"https://www.naxos.com/catalogue/item.asp?item_code=8.559087\">8.559087</a> )</span><br/><i>Run Lola Run (Lola rennt) (1998) <br/> Thin Red Line (The) (1998) <br/> Valley of Love (2015)</i><br/>\n",
      "</div>\n",
      "</td></tr>\n",
      "</table>\n",
      "<!-- END REVIEWS -->\n",
      "</td>\n"
     ]
    }
   ],
   "source": [
    "table = soup.find('td',class_='style5')\n",
    "print(table)"
   ]
  },
  {
   "cell_type": "markdown",
   "metadata": {},
   "source": [
    "Well this is the table of reviews. Let's see if we can extract the composer part from this table item."
   ]
  },
  {
   "cell_type": "code",
   "execution_count": 21,
   "metadata": {},
   "outputs": [
    {
     "data": {
      "text/plain": [
       "bs4.element.Tag"
      ]
     },
     "execution_count": 21,
     "metadata": {},
     "output_type": "execute_result"
    }
   ],
   "source": [
    "type(table)"
   ]
  },
  {
   "cell_type": "code",
   "execution_count": 44,
   "metadata": {},
   "outputs": [],
   "source": [
    "composer = table.find_all('b')"
   ]
  },
  {
   "cell_type": "code",
   "execution_count": 45,
   "metadata": {},
   "outputs": [
    {
     "data": {
      "text/plain": [
       "[<b>IBERT, JACQUES</b>,\n",
       " <b>IPPOLITOV-IVANOV, MIKHAIL MIKHAYLOVICH</b>,\n",
       " <b>IVANOVICI, IOSIF</b>,\n",
       " <b>IVES, CHARLES</b>]"
      ]
     },
     "execution_count": 45,
     "metadata": {},
     "output_type": "execute_result"
    }
   ],
   "source": [
    "composer"
   ]
  },
  {
   "cell_type": "markdown",
   "metadata": {},
   "source": [
    "Nice, found them. Done in one step:"
   ]
  },
  {
   "cell_type": "code",
   "execution_count": 46,
   "metadata": {},
   "outputs": [],
   "source": [
    "composers = soup.find('td',class_='style5').find_all('b')"
   ]
  },
  {
   "cell_type": "code",
   "execution_count": 47,
   "metadata": {},
   "outputs": [
    {
     "data": {
      "text/plain": [
       "[<b>IBERT, JACQUES</b>,\n",
       " <b>IPPOLITOV-IVANOV, MIKHAIL MIKHAYLOVICH</b>,\n",
       " <b>IVANOVICI, IOSIF</b>,\n",
       " <b>IVES, CHARLES</b>]"
      ]
     },
     "execution_count": 47,
     "metadata": {},
     "output_type": "execute_result"
    }
   ],
   "source": [
    "composers"
   ]
  },
  {
   "cell_type": "markdown",
   "metadata": {},
   "source": [
    "So now that we have the composers in a list we know we an iterate through them all. Let's move to finding the other text associated with that composer."
   ]
  },
  {
   "cell_type": "code",
   "execution_count": 48,
   "metadata": {},
   "outputs": [
    {
     "data": {
      "text/plain": [
       "<td class=\"style5\">\n",
       "<!-- START REVIEWS -->\n",
       "<table align=\"center\" bgcolor=\"#CCCCCC\" border=\"0\" cellpadding=\"4\" cellspacing=\"1\" width=\"650\">\n",
       "<tr><td bgcolor=\"#EEEEEE\"><b>IBERT, JACQUES</b></td></tr>\n",
       "<tr><td bgcolor=\"#ffffff\" class=\"style5\">\n",
       "<div style=\"border-top:1px dotted #999999; border-bottom:1px dotted #999999; padding:3px 0px; margin:0px 0px\">\n",
       "\t\t\t\t\t\t\tFlute Concerto: II. Andante <span class=\"style1\">(Capriccio <a href=\"https://www.naxos.com/catalogue/item.asp?item_code=C71028\">C71028</a> )</span><br/><i>Dionysia (A) (2015)</i><br/>\n",
       "</div>\n",
       "</td></tr>\n",
       "<tr><td bgcolor=\"#EEEEEE\"><b>IPPOLITOV-IVANOV, MIKHAIL MIKHAYLOVICH</b></td></tr>\n",
       "<tr><td bgcolor=\"#ffffff\" class=\"style5\">\n",
       "<div style=\"border-top:1px dotted #999999; border-bottom:1px dotted #999999; padding:3px 0px; margin:0px 0px\">\n",
       "\t\t\t\t\t\t\tCaucasian Sketches, Suite No. 1, Op. 10: IV. Procession of the Sardar <span class=\"style1\">(<a href=\"https://www.naxos.com/catalogue/item.asp?item_code=8.553405\">8.553405</a> )</span><br/><i>Curse of the Mummy's Tomb (The) (1964)</i><br/>\n",
       "</div>\n",
       "</td></tr>\n",
       "<tr><td bgcolor=\"#EEEEEE\"><b>IVANOVICI, IOSIF</b></td></tr>\n",
       "<tr><td bgcolor=\"#ffffff\" class=\"style5\">\n",
       "<div style=\"border-top:1px dotted #999999; border-bottom:1px dotted #999999; padding:3px 0px; margin:0px 0px\">\n",
       "\t\t\t\t\t\t\tValurile Dunarii (The Danube Waves) <span class=\"style1\">(<a href=\"https://www.naxos.com/catalogue/item.asp?item_code=8.553337\">8.553337</a> )</span><br/><i>Great Caruso (The) (1951) <br/> Men of Boys Town (1941)</i><br/>\n",
       "</div>\n",
       "</td></tr>\n",
       "<tr><td bgcolor=\"#EEEEEE\"><b>IVES, CHARLES</b></td></tr>\n",
       "<tr><td bgcolor=\"#ffffff\" class=\"style5\">\n",
       "<div style=\"border-top:1px dotted #999999; border-bottom:1px dotted #999999; padding:3px 0px; margin:0px 0px\">\n",
       "\t\t\t\t\t\t\tThe Unanswered Question <span class=\"style1\">(<a href=\"https://www.naxos.com/catalogue/item.asp?item_code=8.559087\">8.559087</a> )</span><br/><i>Run Lola Run (Lola rennt) (1998) <br/> Thin Red Line (The) (1998) <br/> Valley of Love (2015)</i><br/>\n",
       "</div>\n",
       "</td></tr>\n",
       "</table>\n",
       "<!-- END REVIEWS -->\n",
       "</td>"
      ]
     },
     "execution_count": 48,
     "metadata": {},
     "output_type": "execute_result"
    }
   ],
   "source": [
    "table"
   ]
  },
  {
   "cell_type": "code",
   "execution_count": 49,
   "metadata": {},
   "outputs": [],
   "source": [
    "name = composers[0].text"
   ]
  },
  {
   "cell_type": "code",
   "execution_count": 50,
   "metadata": {},
   "outputs": [
    {
     "data": {
      "text/plain": [
       "'IBERT, JACQUES'"
      ]
     },
     "execution_count": 50,
     "metadata": {},
     "output_type": "execute_result"
    }
   ],
   "source": [
    "name"
   ]
  },
  {
   "cell_type": "code",
   "execution_count": 78,
   "metadata": {},
   "outputs": [],
   "source": [
    "a = table.find(text=name).parent.parent.parent"
   ]
  },
  {
   "cell_type": "code",
   "execution_count": 79,
   "metadata": {},
   "outputs": [
    {
     "data": {
      "text/plain": [
       "<tr><td bgcolor=\"#EEEEEE\"><b>IBERT, JACQUES</b></td></tr>"
      ]
     },
     "execution_count": 79,
     "metadata": {},
     "output_type": "execute_result"
    }
   ],
   "source": [
    "a"
   ]
  },
  {
   "cell_type": "code",
   "execution_count": 82,
   "metadata": {},
   "outputs": [],
   "source": [
    "b = a.next_sibling.next_sibling"
   ]
  },
  {
   "cell_type": "code",
   "execution_count": 83,
   "metadata": {},
   "outputs": [
    {
     "data": {
      "text/plain": [
       "<tr><td bgcolor=\"#ffffff\" class=\"style5\">\n",
       "<div style=\"border-top:1px dotted #999999; border-bottom:1px dotted #999999; padding:3px 0px; margin:0px 0px\">\n",
       "\t\t\t\t\t\t\tFlute Concerto: II. Andante <span class=\"style1\">(Capriccio <a href=\"https://www.naxos.com/catalogue/item.asp?item_code=C71028\">C71028</a> )</span><br/><i>Dionysia (A) (2015)</i><br/>\n",
       "</div>\n",
       "</td></tr>"
      ]
     },
     "execution_count": 83,
     "metadata": {},
     "output_type": "execute_result"
    }
   ],
   "source": [
    "b"
   ]
  },
  {
   "cell_type": "markdown",
   "metadata": {},
   "source": [
    "This is an ugly way of doing things, but it works... I wonder if there's a better way?\n",
    "\n",
    "Now that it's done, let's try to extract that div to it's own thing"
   ]
  },
  {
   "cell_type": "code",
   "execution_count": 84,
   "metadata": {},
   "outputs": [],
   "source": [
    "uses = b.find('div')"
   ]
  },
  {
   "cell_type": "code",
   "execution_count": 85,
   "metadata": {},
   "outputs": [
    {
     "data": {
      "text/plain": [
       "<div style=\"border-top:1px dotted #999999; border-bottom:1px dotted #999999; padding:3px 0px; margin:0px 0px\">\n",
       "\t\t\t\t\t\t\tFlute Concerto: II. Andante <span class=\"style1\">(Capriccio <a href=\"https://www.naxos.com/catalogue/item.asp?item_code=C71028\">C71028</a> )</span><br/><i>Dionysia (A) (2015)</i><br/>\n",
       "</div>"
      ]
     },
     "execution_count": 85,
     "metadata": {},
     "output_type": "execute_result"
    }
   ],
   "source": [
    "uses"
   ]
  },
  {
   "cell_type": "markdown",
   "metadata": {},
   "source": [
    "From this we can see that the first text item is the name of piece. We also get the item_code, the ID of the piece in their system, in the text associated with the link. The last thing we get is the movie(s) the piece appears in within the `<i>` tags. Let's try to extract those 3 things from the `uses` variable."
   ]
  },
  {
   "cell_type": "code",
   "execution_count": 88,
   "metadata": {},
   "outputs": [
    {
     "name": "stdout",
     "output_type": "stream",
     "text": [
      "\n",
      "\t\t\t\t\t\t\tFlute Concerto: II. Andante \n"
     ]
    }
   ],
   "source": [
    "piece = uses.find('span',class_='style1').previous_sibling\n",
    "print(piece)"
   ]
  },
  {
   "cell_type": "markdown",
   "metadata": {},
   "source": [
    "Okay, we get the text with some whitespace. that can be cleaned in excel/gsheets"
   ]
  },
  {
   "cell_type": "code",
   "execution_count": 89,
   "metadata": {},
   "outputs": [
    {
     "name": "stdout",
     "output_type": "stream",
     "text": [
      "C71028\n"
     ]
    }
   ],
   "source": [
    "itemCode = uses.find('a').text\n",
    "print(itemCode)"
   ]
  },
  {
   "cell_type": "markdown",
   "metadata": {},
   "source": [
    "We got the item code!"
   ]
  },
  {
   "cell_type": "code",
   "execution_count": 90,
   "metadata": {},
   "outputs": [],
   "source": [
    "movies = uses.find('i').text"
   ]
  },
  {
   "cell_type": "code",
   "execution_count": 91,
   "metadata": {},
   "outputs": [
    {
     "data": {
      "text/plain": [
       "'Dionysia (A) (2015)'"
      ]
     },
     "execution_count": 91,
     "metadata": {},
     "output_type": "execute_result"
    }
   ],
   "source": [
    "movies"
   ]
  },
  {
   "cell_type": "markdown",
   "metadata": {},
   "source": [
    "We got them. These things can now be appeneded as rows to a large csv file!"
   ]
  },
  {
   "cell_type": "markdown",
   "metadata": {},
   "source": [
    "## Time to build out.\n",
    "\n",
    "With a quick glimpse at the page for the letter J I noticed we can have 1 composer with multiple pieces being used in films. Each piece will get it's own div. Let's see if I can combine everything I have done before this and try to see if find_all will work when I define the uses variable."
   ]
  },
  {
   "cell_type": "code",
   "execution_count": 100,
   "metadata": {},
   "outputs": [],
   "source": [
    "page = BeautifulSoup(open(in_url_list[0]).read(),\"lxml\")\n",
    "table = page.find('td',class_='style5')\n",
    "composers = page.find('td',class_='style5').find_all('b')\n",
    "\n",
    "composer = composers[0].text\n",
    "content = table.find(text=composer).parent.parent.parent.next_sibling.next_sibling\n",
    "pieces = content.find_all('div')"
   ]
  },
  {
   "cell_type": "code",
   "execution_count": 101,
   "metadata": {},
   "outputs": [
    {
     "data": {
      "text/plain": [
       "[<div style=\"border-top:1px dotted #999999; border-bottom:1px dotted #999999; padding:3px 0px; margin:0px 0px\">\n",
       " \t\t\t\t\t\t\tGiselle: Apparition de Giselle <span class=\"style1\">(<a href=\"https://www.naxos.com/catalogue/item.asp?item_code=8.550755-56\">8.550755-56</a> )</span><br/><i>Red Shoes (The) (1948)</i><br/>\n",
       " </div>,\n",
       " <div style=\"border-top:1px dotted #999999; border-bottom:1px dotted #999999; padding:3px 0px; margin:0px 0px\">\n",
       " \t\t\t\t\t\t\tGiselle: Entree d'Hilarion, scene et fugue des Wilis <span class=\"style1\">(<a href=\"https://www.naxos.com/catalogue/item.asp?item_code=8.550755-56\">8.550755-56</a> )</span><br/><i>Red Shoes (The) (1948)</i><br/>\n",
       " </div>,\n",
       " <div style=\"border-top:1px dotted #999999; border-bottom:1px dotted #999999; padding:3px 0px; margin:0px 0px\">\n",
       " \t\t\t\t\t\t\tGiselle: Pas de deux des jeunes paysans <span class=\"style1\">(<a href=\"https://www.naxos.com/catalogue/item.asp?item_code=8.550755-56\">8.550755-56</a> )</span><br/><i>Red Shoes (The) (1948)</i><br/>\n",
       " </div>,\n",
       " <div style=\"border-top:1px dotted #999999; border-bottom:1px dotted #999999; padding:3px 0px; margin:0px 0px\">\n",
       " \t\t\t\t\t\t\tGiselle: Pas des premieres Wilis <span class=\"style1\">(<a href=\"https://www.naxos.com/catalogue/item.asp?item_code=8.550755-56\">8.550755-56</a> )</span><br/><i>Red Shoes (The) (1948)</i><br/>\n",
       " </div>]"
      ]
     },
     "execution_count": 101,
     "metadata": {},
     "output_type": "execute_result"
    }
   ],
   "source": [
    "pieces"
   ]
  },
  {
   "cell_type": "markdown",
   "metadata": {},
   "source": [
    "This works!"
   ]
  },
  {
   "cell_type": "code",
   "execution_count": 105,
   "metadata": {},
   "outputs": [
    {
     "name": "stdout",
     "output_type": "stream",
     "text": [
      "ADAM, ADOLPHE Giselle: Apparition de Giselle 8.550755-56 Red Shoes (The) (1948)\n"
     ]
    }
   ],
   "source": [
    "piece = pieces[0]\n",
    "pieceName = piece.find('span',class_='style1').previous_sibling\n",
    "pieceCode = piece.find('a').text\n",
    "pieceMovies = piece.find('i').text\n",
    "\n",
    "print(composer,pieceName.strip(),pieceCode,pieceMovies)"
   ]
  },
  {
   "cell_type": "markdown",
   "metadata": {},
   "source": [
    "So it works for one div, let's iterate across pieces:"
   ]
  },
  {
   "cell_type": "code",
   "execution_count": 106,
   "metadata": {},
   "outputs": [
    {
     "name": "stdout",
     "output_type": "stream",
     "text": [
      "ADAM, ADOLPHE Giselle: Apparition de Giselle 8.550755-56 Red Shoes (The) (1948)\n",
      "ADAM, ADOLPHE Giselle: Entree d'Hilarion, scene et fugue des Wilis 8.550755-56 Red Shoes (The) (1948)\n",
      "ADAM, ADOLPHE Giselle: Pas de deux des jeunes paysans 8.550755-56 Red Shoes (The) (1948)\n",
      "ADAM, ADOLPHE Giselle: Pas des premieres Wilis 8.550755-56 Red Shoes (The) (1948)\n"
     ]
    }
   ],
   "source": [
    "for piece in pieces:\n",
    "    pieceName = piece.find('span',class_='style1').previous_sibling\n",
    "    pieceCode = piece.find('a').text\n",
    "    pieceMovies = piece.find('i').text\n",
    "    \n",
    "    print(composer,pieceName.strip(),pieceCode,pieceMovies) "
   ]
  },
  {
   "cell_type": "markdown",
   "metadata": {},
   "source": [
    "And can we iterate across composers?"
   ]
  },
  {
   "cell_type": "code",
   "execution_count": 108,
   "metadata": {},
   "outputs": [
    {
     "name": "stdout",
     "output_type": "stream",
     "text": [
      "ADAM, ADOLPHE Giselle: Apparition de Giselle 8.550755-56 Red Shoes (The) (1948)\n",
      "ADAM, ADOLPHE Giselle: Entree d'Hilarion, scene et fugue des Wilis 8.550755-56 Red Shoes (The) (1948)\n",
      "ADAM, ADOLPHE Giselle: Pas de deux des jeunes paysans 8.550755-56 Red Shoes (The) (1948)\n",
      "ADAM, ADOLPHE Giselle: Pas des premieres Wilis 8.550755-56 Red Shoes (The) (1948)\n",
      "ADAMS, JOHN China Gates 8.559285 Call Me by Your Name (2017)\n",
      "ADAMS, JOHN Hallelujah Junction 8.559285 Call Me by Your Name (2017)\n",
      "ADAMS, JOHN Harmonium: No. 3. Wild Nights 603497121168 Birdman: Or (The Unexpected Virtue of Ignorance) (2014)\n",
      "ADAMS, JOHN Phrygian Gates 8.559285 Call Me by Your Name (2017)\n",
      "ADAMS, JOHN The Death of Klinghoffer: Chorus of the Exiled Palestinians 603497121168 Birdman: Or (The Unexpected Virtue of Ignorance) (2014)\n",
      "ALBENIZ, ISAAC Asturias 8.553999 Talk of Angels (1998)\n",
      "ALBENIZ, ISAAC Chant d'Espagne, Op. 232: No. 4. Cordoba ODE752-2 Girlfight (2000)\n",
      "ALBINONI, TOMASO GIOVANNI Adagio 8.550014 Doors (The) (1991)  Gallipoli (1981)  Inbetweeners 2 (The) (2014)  Rio das Mortes (1971)  Rollerball (1975)  Welcome to Sarajevo (1997)\n",
      "ALBINONI, TOMASO GIOVANNI Oboe Concerto in B-flat major, Op. 9, No. 11 8.550739 Elle (2016)\n",
      "ALBINONI, TOMASO GIOVANNI Oboe Concerto in C major, Op. 7, No. 12 8.553035 Peter Rabbit (2018)\n",
      "ALFVEN, HUGO Swedish Rhapsody No. 1 8.550090 Young Poisoner's Handbook (The) (1995)\n",
      "ALLEGRI, GREGORIO Miserere mei 8.550827 Anatomy (2000)  Angela's Ashes  Chariots of Fire  Face/Off (1997)  Maurice (1987)\n",
      "ANDERSON, LEROY Sleigh Ride 8.559125 Girl, Interrupted (1999)\n",
      "ARNE, THOMAS AUGUSTINE Rule Brittania 8.553961 Alphabet Murders (The) (1965)  BFG (The) (2016)  Charge of the Light Brigade (The)  Into the Arms of Strangers (2007)  Minions (2015)  Three Men and a Little Lady (1990)\n"
     ]
    }
   ],
   "source": [
    "for composer in composers:\n",
    "    composer_name = composer.text\n",
    "    content = table.find(text=composer_name).parent.parent.parent.next_sibling.next_sibling\n",
    "    pieces = content.find_all('div')\n",
    "    \n",
    "    for piece in pieces:\n",
    "        pieceName = piece.find('span',class_='style1').previous_sibling\n",
    "        pieceCode = piece.find('a').text\n",
    "        pieceMovies = piece.find('i').text\n",
    "\n",
    "        print(composer_name,pieceName.strip(),pieceCode,pieceMovies)"
   ]
  },
  {
   "cell_type": "markdown",
   "metadata": {},
   "source": [
    "Awesome. Now we know we can get all the info for a page. A thing we can add is the url of the item code. Let's look at the last call of piece"
   ]
  },
  {
   "cell_type": "code",
   "execution_count": 109,
   "metadata": {},
   "outputs": [
    {
     "data": {
      "text/plain": [
       "<div style=\"border-top:1px dotted #999999; border-bottom:1px dotted #999999; padding:3px 0px; margin:0px 0px\">\n",
       "\t\t\t\t\t\t\tRule Brittania <span class=\"style1\">(<a href=\"https://www.naxos.com/catalogue/item.asp?item_code=8.553961\">8.553961</a> )</span><br/><i>Alphabet Murders (The) (1965) <br/> BFG (The) (2016) <br/> Charge of the Light Brigade (The) <br/> Into the Arms of Strangers (2007) <br/> Minions (2015) <br/> Three Men and a Little Lady (1990)</i><br/>\n",
       "</div>"
      ]
     },
     "execution_count": 109,
     "metadata": {},
     "output_type": "execute_result"
    }
   ],
   "source": [
    "piece"
   ]
  },
  {
   "cell_type": "markdown",
   "metadata": {},
   "source": [
    "The url for the item code is: `https://www.naxos.com/catalogue/item.asp?item_code=8.553961`. To the previous thing we were outputting we can add another column for the item_url. This item_url is the link to the item in the naxos catalog and is formed by adding the item code we already extract to the baseurl `https://www.naxos.com/catalogue/item.asp?item_code=`"
   ]
  },
  {
   "cell_type": "code",
   "execution_count": 110,
   "metadata": {},
   "outputs": [],
   "source": [
    "item_url = 'https://www.naxos.com/catalogue/item.asp?item_code='+pieceCode"
   ]
  },
  {
   "cell_type": "code",
   "execution_count": 111,
   "metadata": {},
   "outputs": [
    {
     "name": "stdout",
     "output_type": "stream",
     "text": [
      "https://www.naxos.com/catalogue/item.asp?item_code=8.553961\n"
     ]
    }
   ],
   "source": [
    "print(item_url)"
   ]
  },
  {
   "cell_type": "markdown",
   "metadata": {},
   "source": [
    "We can also try this idea:"
   ]
  },
  {
   "cell_type": "code",
   "execution_count": 122,
   "metadata": {},
   "outputs": [
    {
     "name": "stdout",
     "output_type": "stream",
     "text": [
      "https://www.naxos.com/catalogue/item.asp?item_code=8.553961\n"
     ]
    }
   ],
   "source": [
    "alink = piece.find('a', href=True)['href']\n",
    "print(alink)"
   ]
  },
  {
   "cell_type": "markdown",
   "metadata": {},
   "source": [
    "That works too. \n",
    "\n",
    "Now that we have all this it's important to keep in mind that it all depends on getting a list of composers which comes from `soup.find('td',class_='style5').find_all('b')`. From looking at the pages, there are some letter for whic there are no composers (examples, 'z', 'x'). Let's test if the composer list comes out empty for one of these."
   ]
  },
  {
   "cell_type": "code",
   "execution_count": 124,
   "metadata": {},
   "outputs": [],
   "source": [
    "page2= BeautifulSoup(open(in_url_list[-2]).read(),\"lxml\")\n",
    "table = page2.find('td',class_='style5')\n",
    "composers = page2.find('td',class_='style5').find_all('b')"
   ]
  },
  {
   "cell_type": "code",
   "execution_count": 125,
   "metadata": {},
   "outputs": [
    {
     "data": {
      "text/plain": [
       "[]"
      ]
     },
     "execution_count": 125,
     "metadata": {},
     "output_type": "execute_result"
    }
   ],
   "source": [
    "composers"
   ]
  },
  {
   "cell_type": "code",
   "execution_count": 126,
   "metadata": {},
   "outputs": [
    {
     "data": {
      "text/plain": [
       "0"
      ]
     },
     "execution_count": 126,
     "metadata": {},
     "output_type": "execute_result"
    }
   ],
   "source": [
    "len(composers)"
   ]
  },
  {
   "cell_type": "markdown",
   "metadata": {},
   "source": [
    "Yeah, you get an empty array. We can use that to make a conditional.\n",
    "\n",
    "\n",
    "So let's try it all together now:"
   ]
  },
  {
   "cell_type": "code",
   "execution_count": null,
   "metadata": {},
   "outputs": [],
   "source": [
    "naxos_list = []\n",
    "naxos_list.append('composerNameFull, pieceName, pieceCode, pieceURL, pieceMovies')\n",
    "for url in in_url_list:\n",
    "    page = BeautifulSoup(open(url.read()),\"lxml\")\n",
    "    table = page.find('td',class_='style5')\n",
    "    composers = page.find('td',class_='style5').find_all('b')\n",
    "    \n",
    "    if len(composers) > 0:\n",
    "        for composer in composers:\n",
    "            composer_name = composer.text\n",
    "            content = table.find(text=composer_name).parent.parent.parent.next_sibling.next_sibling\n",
    "            pieces = content.find_all('div')\n",
    "\n",
    "            for piece in pieces:\n",
    "                pieceName = piece.find('span',class_='style1').previous_sibling\n",
    "                pieceCode = piece.find('a').text\n",
    "                pieceURL = piece.find('a', href=True)['href']\n",
    "                pieceMovies = piece.find('i').text\n",
    "                naxos_list.append(composer_name, pieceName, pieceCode, pieceURL, pieceMovies)\n",
    "        else:\n",
    "            print(\"no composers in file:\" + url )\n"
   ]
  }
 ],
 "metadata": {
  "kernelspec": {
   "display_name": "Python 3",
   "language": "python",
   "name": "python3"
  },
  "language_info": {
   "codemirror_mode": {
    "name": "ipython",
    "version": 3
   },
   "file_extension": ".py",
   "mimetype": "text/x-python",
   "name": "python",
   "nbconvert_exporter": "python",
   "pygments_lexer": "ipython3",
   "version": "3.7.2"
  }
 },
 "nbformat": 4,
 "nbformat_minor": 2
}
